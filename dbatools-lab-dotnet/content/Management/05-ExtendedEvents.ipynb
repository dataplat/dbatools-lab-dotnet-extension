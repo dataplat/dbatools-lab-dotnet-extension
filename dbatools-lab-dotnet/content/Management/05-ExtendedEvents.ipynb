{
    "metadata": {
        "kernelspec": {
            "name": ".net-powershell",
            "display_name": ".NET (PowerShell)"
        },
        "language_info": {
            "name": "PowerShell",
            "version": "7.0",
            "mimetype": "text/x-powershell",
            "file_extension": ".ps1",
            "pygments_lexer": "powershell"
        }
    },
    "nbformat_minor": 2,
    "nbformat": 4,
    "cells": [
        {
            "cell_type": "markdown",
            "source": [
                "# Extended Events\n",
                "\n",
                "***You will need to have followed the steps in the 00-CreateContainers notebook to use this notebook***\n",
                "\n",
                "We have written a book which will give you a brilliant introduction to dbatools. It's called dbatools in a Month of Lunches and you can find it at https://beard.media/book\n",
                "\n",
                "dbatools is **awesome** with Extended Events\n",
                "\n",
                "First we will set up the variables and connections to the containers"
            ],
            "metadata": {
                "azdata_cell_guid": "9c43d446-2f34-4531-81f4-14dfc2b75e04"
            }
        },
        {
            "cell_type": "code",
            "source": [
                "$FolderPath = $Env:USERPROFILE + '\\Documents\\dbatoolsdemo'\n",
                "$SqlInstances = 'localhost,15592', 'localhost,15593'\n",
                "$SqlCredential = Import-Clixml -Path $FolderPath\\sqladmin.cred\n",
                "Write-Output \" Creating connection to the containers\"\n",
                "try {\n",
                "    $SQL1 = Connect-DbaInstance -SqlInstance $SqlInstances[0] -SqlCredential $SqlCredential \n",
                "    $SQL2 = Connect-DbaInstance -SqlInstance $SqlInstances[1] -SqlCredential $SqlCredential\n",
                "    Write-Output \"We have a connection to the containers\"\n",
                "\n",
                "}\n",
                "catch {\n",
                "    Write-Output \"You haven't got a connection to the containers - Either they are still upgrading in which case try again in 30 seconds or the containers have not come up correctly\"\n",
                "    Write-Output \"Make sure the containers are running - the code is below in a block for you\"\n",
                "    Write-Output \"docker ps -a\"\n",
                "    Write-Output \"If they are read the logs - the code is below in a block for you\"\n",
                "    Write-Output \"docker logs dbatools_SQL2019_1\"\n",
                "    Write-Output \"docker logs dbatools_SQL2019-1_1\"\n",
                "}"
            ],
            "metadata": {
                "jupyter": {
                    "source_hidden": true
                },
                "azdata_cell_guid": "11e3a60c-9794-4b99-bfa9-6ba69917cd6a"
            },
            "outputs": [
                {
                    "name": "stdout",
                    "text": " Creating connection to the containers\r\n",
                    "output_type": "stream"
                },
                {
                    "name": "stdout",
                    "text": "We have a connection to the containers\r\n",
                    "output_type": "stream"
                }
            ],
            "execution_count": 1
        },
        {
            "cell_type": "markdown",
            "source": [
                "## Listing Extended Events\n",
                "\n",
                "Which Extended Event sessions do we have on our instances ?\n",
                "\n",
                "This will give you \n",
                "\n",
                "- The name of the session\n",
                "- If it is running\n",
                "- When it started\n",
                "- If it will start on server startup (Autostart = True)\n",
                "- The targets\n",
                "- The target filename\n",
                "- The events"
            ],
            "metadata": {
                "azdata_cell_guid": "eebbd5a5-18cc-4f0c-a783-d449c72e41b7"
            }
        },
        {
            "cell_type": "code",
            "source": [
                "Get-DbaXESession -SqlInstance $SQL1"
            ],
            "metadata": {
                "azdata_cell_guid": "2551b135-4642-4cfe-915f-3ce0da8b161e"
            },
            "outputs": [
                {
                    "name": "stdout",
                    "text": "\r\n",
                    "output_type": "stream"
                },
                {
                    "name": "stdout",
                    "text": "ComputerName : localhost\r\n",
                    "output_type": "stream"
                },
                {
                    "name": "stdout",
                    "text": "InstanceName : MSSQLSERVER\r\n",
                    "output_type": "stream"
                },
                {
                    "name": "stdout",
                    "text": "SqlInstance  : b7ee5654561f\r\n",
                    "output_type": "stream"
                },
                {
                    "name": "stdout",
                    "text": "Name         : 15 Second IO Error\r\n",
                    "output_type": "stream"
                },
                {
                    "name": "stdout",
                    "text": "Status       : Running\r\n",
                    "output_type": "stream"
                },
                {
                    "name": "stdout",
                    "text": "StartTime    : 17/06/2020 19:33:38\r\n",
                    "output_type": "stream"
                },
                {
                    "name": "stdout",
                    "text": "AutoStart    : True\r\n",
                    "output_type": "stream"
                },
                {
                    "name": "stdout",
                    "text": "State        : Existing\r\n",
                    "output_type": "stream"
                },
                {
                    "name": "stdout",
                    "text": "Targets      : {package0.event_file}\r\n",
                    "output_type": "stream"
                },
                {
                    "name": "stdout",
                    "text": "TargetFile   : {/var/opt/mssql/log\\15_second_io_error}\r\n",
                    "output_type": "stream"
                },
                {
                    "name": "stdout",
                    "text": "Events       : {sqlserver.file_read_completed, sqlserver.file_write_completed}\r\n",
                    "output_type": "stream"
                },
                {
                    "name": "stdout",
                    "text": "MaxMemory    : 4096\r\n",
                    "output_type": "stream"
                },
                {
                    "name": "stdout",
                    "text": "MaxEventSize : 0\r\n",
                    "output_type": "stream"
                },
                {
                    "name": "stdout",
                    "text": "\r\n",
                    "output_type": "stream"
                },
                {
                    "name": "stdout",
                    "text": "ComputerName : localhost\r\n",
                    "output_type": "stream"
                },
                {
                    "name": "stdout",
                    "text": "InstanceName : MSSQLSERVER\r\n",
                    "output_type": "stream"
                },
                {
                    "name": "stdout",
                    "text": "SqlInstance  : b7ee5654561f\r\n",
                    "output_type": "stream"
                },
                {
                    "name": "stdout",
                    "text": "Name         : AlwaysOn_health\r\n",
                    "output_type": "stream"
                },
                {
                    "name": "stdout",
                    "text": "Status       : Stopped\r\n",
                    "output_type": "stream"
                },
                {
                    "name": "stdout",
                    "text": "StartTime    : \r\n",
                    "output_type": "stream"
                },
                {
                    "name": "stdout",
                    "text": "AutoStart    : False\r\n",
                    "output_type": "stream"
                },
                {
                    "name": "stdout",
                    "text": "State        : Existing\r\n",
                    "output_type": "stream"
                },
                {
                    "name": "stdout",
                    "text": "Targets      : {package0.event_file}\r\n",
                    "output_type": "stream"
                },
                {
                    "name": "stdout",
                    "text": "TargetFile   : {/var/opt/mssql/log\\AlwaysOn_health.xel}\r\n",
                    "output_type": "stream"
                },
                {
                    "name": "stdout",
                    "text": "Events       : {sqlserver.alwayson_ddl_executed, sqlserver.availability_group_lease_expired, \r\n",
                    "output_type": "stream"
                },
                {
                    "name": "stdout",
                    "text": "               sqlserver.availability_replica_automatic_failover_validation, \r\n",
                    "output_type": "stream"
                },
                {
                    "name": "stdout",
                    "text": "               sqlserver.availability_replica_manager_state_change…}\r\n",
                    "output_type": "stream"
                },
                {
                    "name": "stdout",
                    "text": "MaxMemory    : 4096\r\n",
                    "output_type": "stream"
                },
                {
                    "name": "stdout",
                    "text": "MaxEventSize : 0\r\n",
                    "output_type": "stream"
                },
                {
                    "name": "stdout",
                    "text": "\r\n",
                    "output_type": "stream"
                },
                {
                    "name": "stdout",
                    "text": "ComputerName : localhost\r\n",
                    "output_type": "stream"
                },
                {
                    "name": "stdout",
                    "text": "InstanceName : MSSQLSERVER\r\n",
                    "output_type": "stream"
                },
                {
                    "name": "stdout",
                    "text": "SqlInstance  : b7ee5654561f\r\n",
                    "output_type": "stream"
                },
                {
                    "name": "stdout",
                    "text": "Name         : Blocked Process Report\r\n",
                    "output_type": "stream"
                },
                {
                    "name": "stdout",
                    "text": "Status       : Running\r\n",
                    "output_type": "stream"
                },
                {
                    "name": "stdout",
                    "text": "StartTime    : 17/06/2020 19:33:38\r\n",
                    "output_type": "stream"
                },
                {
                    "name": "stdout",
                    "text": "AutoStart    : True\r\n",
                    "output_type": "stream"
                },
                {
                    "name": "stdout",
                    "text": "State        : Existing\r\n",
                    "output_type": "stream"
                },
                {
                    "name": "stdout",
                    "text": "Targets      : {package0.event_file}\r\n",
                    "output_type": "stream"
                },
                {
                    "name": "stdout",
                    "text": "TargetFile   : {/var/opt/mssql/log\\Blocked Process Report}\r\n",
                    "output_type": "stream"
                },
                {
                    "name": "stdout",
                    "text": "Events       : {sqlserver.blocked_process_report}\r\n",
                    "output_type": "stream"
                },
                {
                    "name": "stdout",
                    "text": "MaxMemory    : 8192\r\n",
                    "output_type": "stream"
                },
                {
                    "name": "stdout",
                    "text": "MaxEventSize : 0\r\n",
                    "output_type": "stream"
                },
                {
                    "name": "stdout",
                    "text": "\r\n",
                    "output_type": "stream"
                },
                {
                    "name": "stdout",
                    "text": "ComputerName : localhost\r\n",
                    "output_type": "stream"
                },
                {
                    "name": "stdout",
                    "text": "InstanceName : MSSQLSERVER\r\n",
                    "output_type": "stream"
                },
                {
                    "name": "stdout",
                    "text": "SqlInstance  : b7ee5654561f\r\n",
                    "output_type": "stream"
                },
                {
                    "name": "stdout",
                    "text": "Name         : Stored Procedure Parameters\r\n",
                    "output_type": "stream"
                },
                {
                    "name": "stdout",
                    "text": "Status       : Running\r\n",
                    "output_type": "stream"
                },
                {
                    "name": "stdout",
                    "text": "StartTime    : 17/06/2020 19:33:38\r\n",
                    "output_type": "stream"
                },
                {
                    "name": "stdout",
                    "text": "AutoStart    : True\r\n",
                    "output_type": "stream"
                },
                {
                    "name": "stdout",
                    "text": "State        : Existing\r\n",
                    "output_type": "stream"
                },
                {
                    "name": "stdout",
                    "text": "Targets      : {package0.event_file}\r\n",
                    "output_type": "stream"
                },
                {
                    "name": "stdout",
                    "text": "TargetFile   : {/var/opt/mssql/log\\capture_parameters}\r\n",
                    "output_type": "stream"
                },
                {
                    "name": "stdout",
                    "text": "Events       : {sqlserver.rpc_completed, sqlserver.sql_batch_completed}\r\n",
                    "output_type": "stream"
                },
                {
                    "name": "stdout",
                    "text": "MaxMemory    : 4096\r\n",
                    "output_type": "stream"
                },
                {
                    "name": "stdout",
                    "text": "MaxEventSize : 0\r\n",
                    "output_type": "stream"
                },
                {
                    "name": "stdout",
                    "text": "\r\n",
                    "output_type": "stream"
                },
                {
                    "name": "stdout",
                    "text": "ComputerName : localhost\r\n",
                    "output_type": "stream"
                },
                {
                    "name": "stdout",
                    "text": "InstanceName : MSSQLSERVER\r\n",
                    "output_type": "stream"
                },
                {
                    "name": "stdout",
                    "text": "SqlInstance  : b7ee5654561f\r\n",
                    "output_type": "stream"
                },
                {
                    "name": "stdout",
                    "text": "Name         : system_health\r\n",
                    "output_type": "stream"
                },
                {
                    "name": "stdout",
                    "text": "Status       : Running\r\n",
                    "output_type": "stream"
                },
                {
                    "name": "stdout",
                    "text": "StartTime    : 17/06/2020 19:33:38\r\n",
                    "output_type": "stream"
                },
                {
                    "name": "stdout",
                    "text": "AutoStart    : True\r\n",
                    "output_type": "stream"
                },
                {
                    "name": "stdout",
                    "text": "State        : Existing\r\n",
                    "output_type": "stream"
                },
                {
                    "name": "stdout",
                    "text": "Targets      : {package0.event_file, package0.ring_buffer}\r\n",
                    "output_type": "stream"
                },
                {
                    "name": "stdout",
                    "text": "TargetFile   : {/var/opt/mssql/log\\system_health.xel}\r\n",
                    "output_type": "stream"
                },
                {
                    "name": "stdout",
                    "text": "Events       : {sqlclr.clr_allocation_failure, sqlclr.clr_virtual_alloc_failure, \r\n",
                    "output_type": "stream"
                },
                {
                    "name": "stdout",
                    "text": "               sqlos.memory_broker_ring_buffer_recorded, \r\n",
                    "output_type": "stream"
                },
                {
                    "name": "stdout",
                    "text": "               sqlos.memory_node_oom_ring_buffer_recorded…}\r\n",
                    "output_type": "stream"
                },
                {
                    "name": "stdout",
                    "text": "MaxMemory    : 4096\r\n",
                    "output_type": "stream"
                },
                {
                    "name": "stdout",
                    "text": "MaxEventSize : 0\r\n",
                    "output_type": "stream"
                },
                {
                    "name": "stdout",
                    "text": "\r\n",
                    "output_type": "stream"
                },
                {
                    "name": "stdout",
                    "text": "ComputerName : localhost\r\n",
                    "output_type": "stream"
                },
                {
                    "name": "stdout",
                    "text": "InstanceName : MSSQLSERVER\r\n",
                    "output_type": "stream"
                },
                {
                    "name": "stdout",
                    "text": "SqlInstance  : b7ee5654561f\r\n",
                    "output_type": "stream"
                },
                {
                    "name": "stdout",
                    "text": "Name         : telemetry_xevents\r\n",
                    "output_type": "stream"
                },
                {
                    "name": "stdout",
                    "text": "Status       : Running\r\n",
                    "output_type": "stream"
                },
                {
                    "name": "stdout",
                    "text": "StartTime    : 17/06/2020 19:45:30\r\n",
                    "output_type": "stream"
                },
                {
                    "name": "stdout",
                    "text": "AutoStart    : True\r\n",
                    "output_type": "stream"
                },
                {
                    "name": "stdout",
                    "text": "State        : Existing\r\n",
                    "output_type": "stream"
                },
                {
                    "name": "stdout",
                    "text": "Targets      : {package0.ring_buffer}\r\n",
                    "output_type": "stream"
                },
                {
                    "name": "stdout",
                    "text": "TargetFile   : {}\r\n",
                    "output_type": "stream"
                },
                {
                    "name": "stdout",
                    "text": "Events       : {qds.query_store_db_diagnostics, sqlserver.alter_column_event, \r\n",
                    "output_type": "stream"
                },
                {
                    "name": "stdout",
                    "text": "               sqlserver.always_encrypted_query_count, \r\n",
                    "output_type": "stream"
                },
                {
                    "name": "stdout",
                    "text": "               sqlserver.approximate_count_distinct_query_compiled…}\r\n",
                    "output_type": "stream"
                },
                {
                    "name": "stdout",
                    "text": "MaxMemory    : 4096\r\n",
                    "output_type": "stream"
                },
                {
                    "name": "stdout",
                    "text": "MaxEventSize : 0\r\n",
                    "output_type": "stream"
                },
                {
                    "name": "stdout",
                    "text": "\r\n",
                    "output_type": "stream"
                },
                {
                    "name": "stdout",
                    "text": "\r\n",
                    "output_type": "stream"
                }
            ],
            "execution_count": 2
        },
        {
            "cell_type": "markdown",
            "source": [
                "## Starting and stopping Extended Events Sessions\n",
                "\n",
                "It is no surprise that you can start and stop extended events sessions easily with dbatools. We like to make command names easy to remember!\n",
                "\n",
                "`Start-DbaXeSession`  \n",
                "`Stop-DbaXeSession`\n",
                "\n",
                "The following session is running - Yep we can check a session with `Get-DbaXeSession` - Look at the status to see if it is running"
            ],
            "metadata": {
                "azdata_cell_guid": "86db28f7-349a-4937-a804-83d0b61c3890"
            }
        },
        {
            "cell_type": "code",
            "source": [
                "Get-DbaXESession -SqlInstance $SQL1 -Session 'Blocked Process Report'"
            ],
            "metadata": {
                "azdata_cell_guid": "be7012f7-f1fa-4038-aae4-f360df009460"
            },
            "outputs": [
                {
                    "name": "stdout",
                    "text": "\r\n",
                    "output_type": "stream"
                },
                {
                    "name": "stdout",
                    "text": "ComputerName : localhost\r\n",
                    "output_type": "stream"
                },
                {
                    "name": "stdout",
                    "text": "InstanceName : MSSQLSERVER\r\n",
                    "output_type": "stream"
                },
                {
                    "name": "stdout",
                    "text": "SqlInstance  : b7ee5654561f\r\n",
                    "output_type": "stream"
                },
                {
                    "name": "stdout",
                    "text": "Name         : Blocked Process Report\r\n",
                    "output_type": "stream"
                },
                {
                    "name": "stdout",
                    "text": "Status       : Running\r\n",
                    "output_type": "stream"
                },
                {
                    "name": "stdout",
                    "text": "StartTime    : 17/06/2020 19:33:38\r\n",
                    "output_type": "stream"
                },
                {
                    "name": "stdout",
                    "text": "AutoStart    : True\r\n",
                    "output_type": "stream"
                },
                {
                    "name": "stdout",
                    "text": "State        : Existing\r\n",
                    "output_type": "stream"
                },
                {
                    "name": "stdout",
                    "text": "Targets      : {package0.event_file}\r\n",
                    "output_type": "stream"
                },
                {
                    "name": "stdout",
                    "text": "TargetFile   : {/var/opt/mssql/log\\Blocked Process Report}\r\n",
                    "output_type": "stream"
                },
                {
                    "name": "stdout",
                    "text": "Events       : {sqlserver.blocked_process_report}\r\n",
                    "output_type": "stream"
                },
                {
                    "name": "stdout",
                    "text": "MaxMemory    : 8192\r\n",
                    "output_type": "stream"
                },
                {
                    "name": "stdout",
                    "text": "MaxEventSize : 0\r\n",
                    "output_type": "stream"
                },
                {
                    "name": "stdout",
                    "text": "\r\n",
                    "output_type": "stream"
                },
                {
                    "name": "stdout",
                    "text": "\r\n",
                    "output_type": "stream"
                }
            ],
            "execution_count": 3
        },
        {
            "cell_type": "markdown",
            "source": [
                "We can stop it\n"
            ],
            "metadata": {
                "azdata_cell_guid": "589b14fc-2ea4-4efc-b837-ba3a89fbca11"
            }
        },
        {
            "cell_type": "code",
            "source": [
                "Stop-DbaXESession  -SqlInstance $SQL1 -Session 'Blocked Process Report'"
            ],
            "metadata": {
                "azdata_cell_guid": "b57da909-8e95-4806-ac81-e38b7f74c669"
            },
            "outputs": [
                {
                    "name": "stdout",
                    "text": "\r\n",
                    "output_type": "stream"
                },
                {
                    "name": "stdout",
                    "text": "ComputerName : localhost\r\n",
                    "output_type": "stream"
                },
                {
                    "name": "stdout",
                    "text": "InstanceName : MSSQLSERVER\r\n",
                    "output_type": "stream"
                },
                {
                    "name": "stdout",
                    "text": "SqlInstance  : b7ee5654561f\r\n",
                    "output_type": "stream"
                },
                {
                    "name": "stdout",
                    "text": "Name         : Blocked Process Report\r\n",
                    "output_type": "stream"
                },
                {
                    "name": "stdout",
                    "text": "Status       : Stopped\r\n",
                    "output_type": "stream"
                },
                {
                    "name": "stdout",
                    "text": "StartTime    : \r\n",
                    "output_type": "stream"
                },
                {
                    "name": "stdout",
                    "text": "AutoStart    : True\r\n",
                    "output_type": "stream"
                },
                {
                    "name": "stdout",
                    "text": "State        : Existing\r\n",
                    "output_type": "stream"
                },
                {
                    "name": "stdout",
                    "text": "Targets      : {package0.event_file}\r\n",
                    "output_type": "stream"
                },
                {
                    "name": "stdout",
                    "text": "TargetFile   : {/var/opt/mssql/log\\Blocked Process Report}\r\n",
                    "output_type": "stream"
                },
                {
                    "name": "stdout",
                    "text": "Events       : {sqlserver.blocked_process_report}\r\n",
                    "output_type": "stream"
                },
                {
                    "name": "stdout",
                    "text": "MaxMemory    : 8192\r\n",
                    "output_type": "stream"
                },
                {
                    "name": "stdout",
                    "text": "MaxEventSize : 0\r\n",
                    "output_type": "stream"
                },
                {
                    "name": "stdout",
                    "text": "\r\n",
                    "output_type": "stream"
                },
                {
                    "name": "stdout",
                    "text": "\r\n",
                    "output_type": "stream"
                }
            ],
            "execution_count": 4
        },
        {
            "cell_type": "markdown",
            "source": [
                "and start it again\n"
            ],
            "metadata": {
                "azdata_cell_guid": "aeeb0be0-0d7e-468e-a5f3-db9eac9cb658"
            }
        },
        {
            "cell_type": "code",
            "source": [
                "Start-DbaXESession  -SqlInstance $SQL1 -Session 'Blocked Process Report'"
            ],
            "metadata": {
                "azdata_cell_guid": "3ab9ba68-79f8-4cc1-a01b-f24d73b43365"
            },
            "outputs": [
                {
                    "name": "stdout",
                    "text": "\r\n",
                    "output_type": "stream"
                },
                {
                    "name": "stdout",
                    "text": "ComputerName : localhost\r\n",
                    "output_type": "stream"
                },
                {
                    "name": "stdout",
                    "text": "InstanceName : MSSQLSERVER\r\n",
                    "output_type": "stream"
                },
                {
                    "name": "stdout",
                    "text": "SqlInstance  : b7ee5654561f\r\n",
                    "output_type": "stream"
                },
                {
                    "name": "stdout",
                    "text": "Name         : Blocked Process Report\r\n",
                    "output_type": "stream"
                },
                {
                    "name": "stdout",
                    "text": "Status       : Running\r\n",
                    "output_type": "stream"
                },
                {
                    "name": "stdout",
                    "text": "StartTime    : 17/06/2020 19:58:39\r\n",
                    "output_type": "stream"
                },
                {
                    "name": "stdout",
                    "text": "AutoStart    : True\r\n",
                    "output_type": "stream"
                },
                {
                    "name": "stdout",
                    "text": "State        : Existing\r\n",
                    "output_type": "stream"
                },
                {
                    "name": "stdout",
                    "text": "Targets      : {package0.event_file}\r\n",
                    "output_type": "stream"
                },
                {
                    "name": "stdout",
                    "text": "TargetFile   : {/var/opt/mssql/log\\Blocked Process Report}\r\n",
                    "output_type": "stream"
                },
                {
                    "name": "stdout",
                    "text": "Events       : {sqlserver.blocked_process_report}\r\n",
                    "output_type": "stream"
                },
                {
                    "name": "stdout",
                    "text": "MaxMemory    : 8192\r\n",
                    "output_type": "stream"
                },
                {
                    "name": "stdout",
                    "text": "MaxEventSize : 0\r\n",
                    "output_type": "stream"
                },
                {
                    "name": "stdout",
                    "text": "\r\n",
                    "output_type": "stream"
                },
                {
                    "name": "stdout",
                    "text": "\r\n",
                    "output_type": "stream"
                }
            ],
            "execution_count": 5
        },
        {
            "cell_type": "markdown",
            "source": [
                "We can watch the live data - Lets create a different process to watch the Blocked Process Session.\n",
                "\n",
                "This code will open a Windows PowerShell session, right click to paste the code and it will prompt for a password which is `dbatools.IO` You will need to have installed dbatools in Windows PowerShell prior to this.\n",
                "Leave that running and move to the next step"
            ],
            "metadata": {
                "azdata_cell_guid": "5dc88c99-494d-46ba-9fcb-432abd259e5f"
            }
        },
        {
            "cell_type": "code",
            "source": [
                "## When PowerShell opens - right click to paste the command\n",
                "#  \n",
                "@\"\n",
                "## the password is dbatools.IO\n",
                "Get-DbaXESession -SqlInstance 'localhost,15592' -SqlCredential sqladmin -Session 'Blocked Process Report' | Watch-DbaXESession  \n",
                "\"@ | clip\n",
                "\n",
                "# \n",
                "Start-Process 'C:\\Windows\\system32\\WindowsPowerShell\\v1.0\\powershell.exe'"
            ],
            "metadata": {
                "azdata_cell_guid": "71fb829b-157e-46a7-bbf8-26760a94c851"
            },
            "outputs": [],
            "execution_count": 6
        },
        {
            "cell_type": "markdown",
            "source": [
                "This code will create some blocked processes, once you have run it you can look at the Windows PowerShell window and see the details, close the window when you are done!"
            ],
            "metadata": {
                "azdata_cell_guid": "fa33747f-5c8d-40b7-b2fd-5694847163ce"
            }
        },
        {
            "cell_type": "code",
            "source": [
                "$query1 = \"\n",
                "BEGIN TRANSACTION\n",
                "  SELECT * FROM [dbo].[authors] WITH (TABLOCKX, HOLDLOCK)\n",
                "    WAITFOR DELAY '00:00:30' -- 30 seconds\n",
                "ROLLBACK TRANSACTION\n",
                "\"\n",
                "$query2 = \"SELECT TOP 1 * FROM [dbo].[authors]\" \n",
                "$Queries = $query1, $query2, $query2 , $query2, $query2, $query2, $query2, $query2, $query2, $query2\n",
                "$FolderPath = $Env:USERPROFILE + '\\Documents\\dbatoolsdemo'\n",
                "$Queries |ForEach-Object -Parallel  {\n",
                "$Credential = Import-Clixml -Path $Using:FolderPath\\sqladmin.cred\n",
                "Invoke-DbaQuery -SqlInstance 'localhost,15592' -SqlCredential $Credential -Database pubs -Query $psitem \n",
                "}"
            ],
            "metadata": {
                "azdata_cell_guid": "6765c9f2-7f80-47e7-8a9e-3624ecaf8251"
            },
            "outputs": [
                {
                    "name": "stdout",
                    "text": "\r\n",
                    "output_type": "stream"
                },
                {
                    "name": "stdout",
                    "text": "au_id    : 172-32-1176\r\n",
                    "output_type": "stream"
                },
                {
                    "name": "stdout",
                    "text": "au_lname : White\r\n",
                    "output_type": "stream"
                },
                {
                    "name": "stdout",
                    "text": "au_fname : Johnson\r\n",
                    "output_type": "stream"
                },
                {
                    "name": "stdout",
                    "text": "phone    : 408 496-7223\r\n",
                    "output_type": "stream"
                },
                {
                    "name": "stdout",
                    "text": "address  : 10932 Bigge Rd.\r\n",
                    "output_type": "stream"
                },
                {
                    "name": "stdout",
                    "text": "city     : Menlo Park\r\n",
                    "output_type": "stream"
                },
                {
                    "name": "stdout",
                    "text": "state    : CA\r\n",
                    "output_type": "stream"
                },
                {
                    "name": "stdout",
                    "text": "zip      : 94025\r\n",
                    "output_type": "stream"
                },
                {
                    "name": "stdout",
                    "text": "contract : True\r\n",
                    "output_type": "stream"
                },
                {
                    "name": "stdout",
                    "text": "\r\n",
                    "output_type": "stream"
                },
                {
                    "name": "stdout",
                    "text": "au_id    : 172-32-1176\r\n",
                    "output_type": "stream"
                },
                {
                    "name": "stdout",
                    "text": "au_lname : White\r\n",
                    "output_type": "stream"
                },
                {
                    "name": "stdout",
                    "text": "au_fname : Johnson\r\n",
                    "output_type": "stream"
                },
                {
                    "name": "stdout",
                    "text": "phone    : 408 496-7223\r\n",
                    "output_type": "stream"
                },
                {
                    "name": "stdout",
                    "text": "address  : 10932 Bigge Rd.\r\n",
                    "output_type": "stream"
                },
                {
                    "name": "stdout",
                    "text": "city     : Menlo Park\r\n",
                    "output_type": "stream"
                },
                {
                    "name": "stdout",
                    "text": "state    : CA\r\n",
                    "output_type": "stream"
                },
                {
                    "name": "stdout",
                    "text": "zip      : 94025\r\n",
                    "output_type": "stream"
                },
                {
                    "name": "stdout",
                    "text": "contract : True\r\n",
                    "output_type": "stream"
                },
                {
                    "name": "stdout",
                    "text": "\r\n",
                    "output_type": "stream"
                },
                {
                    "name": "stdout",
                    "text": "au_id    : 172-32-1176\r\n",
                    "output_type": "stream"
                },
                {
                    "name": "stdout",
                    "text": "au_lname : White\r\n",
                    "output_type": "stream"
                },
                {
                    "name": "stdout",
                    "text": "au_fname : Johnson\r\n",
                    "output_type": "stream"
                },
                {
                    "name": "stdout",
                    "text": "phone    : 408 496-7223\r\n",
                    "output_type": "stream"
                },
                {
                    "name": "stdout",
                    "text": "address  : 10932 Bigge Rd.\r\n",
                    "output_type": "stream"
                },
                {
                    "name": "stdout",
                    "text": "city     : Menlo Park\r\n",
                    "output_type": "stream"
                },
                {
                    "name": "stdout",
                    "text": "state    : CA\r\n",
                    "output_type": "stream"
                },
                {
                    "name": "stdout",
                    "text": "zip      : 94025\r\n",
                    "output_type": "stream"
                },
                {
                    "name": "stdout",
                    "text": "contract : True\r\n",
                    "output_type": "stream"
                },
                {
                    "name": "stdout",
                    "text": "\r\n",
                    "output_type": "stream"
                },
                {
                    "name": "stdout",
                    "text": "au_id    : 172-32-1176\r\n",
                    "output_type": "stream"
                },
                {
                    "name": "stdout",
                    "text": "au_lname : White\r\n",
                    "output_type": "stream"
                },
                {
                    "name": "stdout",
                    "text": "au_fname : Johnson\r\n",
                    "output_type": "stream"
                },
                {
                    "name": "stdout",
                    "text": "phone    : 408 496-7223\r\n",
                    "output_type": "stream"
                },
                {
                    "name": "stdout",
                    "text": "address  : 10932 Bigge Rd.\r\n",
                    "output_type": "stream"
                },
                {
                    "name": "stdout",
                    "text": "city     : Menlo Park\r\n",
                    "output_type": "stream"
                },
                {
                    "name": "stdout",
                    "text": "state    : CA\r\n",
                    "output_type": "stream"
                },
                {
                    "name": "stdout",
                    "text": "zip      : 94025\r\n",
                    "output_type": "stream"
                },
                {
                    "name": "stdout",
                    "text": "contract : True\r\n",
                    "output_type": "stream"
                },
                {
                    "name": "stdout",
                    "text": "\r\n",
                    "output_type": "stream"
                },
                {
                    "name": "stdout",
                    "text": "au_id    : 172-32-1176\r\n",
                    "output_type": "stream"
                },
                {
                    "name": "stdout",
                    "text": "au_lname : White\r\n",
                    "output_type": "stream"
                },
                {
                    "name": "stdout",
                    "text": "au_fname : Johnson\r\n",
                    "output_type": "stream"
                },
                {
                    "name": "stdout",
                    "text": "phone    : 408 496-7223\r\n",
                    "output_type": "stream"
                },
                {
                    "name": "stdout",
                    "text": "address  : 10932 Bigge Rd.\r\n",
                    "output_type": "stream"
                },
                {
                    "name": "stdout",
                    "text": "city     : Menlo Park\r\n",
                    "output_type": "stream"
                },
                {
                    "name": "stdout",
                    "text": "state    : CA\r\n",
                    "output_type": "stream"
                },
                {
                    "name": "stdout",
                    "text": "zip      : 94025\r\n",
                    "output_type": "stream"
                },
                {
                    "name": "stdout",
                    "text": "contract : True\r\n",
                    "output_type": "stream"
                },
                {
                    "name": "stdout",
                    "text": "\r\n",
                    "output_type": "stream"
                },
                {
                    "name": "stdout",
                    "text": "au_id    : 172-32-1176\r\n",
                    "output_type": "stream"
                },
                {
                    "name": "stdout",
                    "text": "au_lname : White\r\n",
                    "output_type": "stream"
                },
                {
                    "name": "stdout",
                    "text": "au_fname : Johnson\r\n",
                    "output_type": "stream"
                },
                {
                    "name": "stdout",
                    "text": "phone    : 408 496-7223\r\n",
                    "output_type": "stream"
                },
                {
                    "name": "stdout",
                    "text": "address  : 10932 Bigge Rd.\r\n",
                    "output_type": "stream"
                },
                {
                    "name": "stdout",
                    "text": "city     : Menlo Park\r\n",
                    "output_type": "stream"
                },
                {
                    "name": "stdout",
                    "text": "state    : CA\r\n",
                    "output_type": "stream"
                },
                {
                    "name": "stdout",
                    "text": "zip      : 94025\r\n",
                    "output_type": "stream"
                },
                {
                    "name": "stdout",
                    "text": "contract : True\r\n",
                    "output_type": "stream"
                },
                {
                    "name": "stdout",
                    "text": "\r\n",
                    "output_type": "stream"
                },
                {
                    "name": "stdout",
                    "text": "au_id    : 172-32-1176\r\n",
                    "output_type": "stream"
                },
                {
                    "name": "stdout",
                    "text": "au_lname : White\r\n",
                    "output_type": "stream"
                },
                {
                    "name": "stdout",
                    "text": "au_fname : Johnson\r\n",
                    "output_type": "stream"
                },
                {
                    "name": "stdout",
                    "text": "phone    : 408 496-7223\r\n",
                    "output_type": "stream"
                },
                {
                    "name": "stdout",
                    "text": "address  : 10932 Bigge Rd.\r\n",
                    "output_type": "stream"
                },
                {
                    "name": "stdout",
                    "text": "city     : Menlo Park\r\n",
                    "output_type": "stream"
                },
                {
                    "name": "stdout",
                    "text": "state    : CA\r\n",
                    "output_type": "stream"
                },
                {
                    "name": "stdout",
                    "text": "zip      : 94025\r\n",
                    "output_type": "stream"
                },
                {
                    "name": "stdout",
                    "text": "contract : True\r\n",
                    "output_type": "stream"
                },
                {
                    "name": "stdout",
                    "text": "\r\n",
                    "output_type": "stream"
                },
                {
                    "name": "stdout",
                    "text": "au_id    : 172-32-1176\r\n",
                    "output_type": "stream"
                },
                {
                    "name": "stdout",
                    "text": "au_lname : White\r\n",
                    "output_type": "stream"
                },
                {
                    "name": "stdout",
                    "text": "au_fname : Johnson\r\n",
                    "output_type": "stream"
                },
                {
                    "name": "stdout",
                    "text": "phone    : 408 496-7223\r\n",
                    "output_type": "stream"
                },
                {
                    "name": "stdout",
                    "text": "address  : 10932 Bigge Rd.\r\n",
                    "output_type": "stream"
                },
                {
                    "name": "stdout",
                    "text": "city     : Menlo Park\r\n",
                    "output_type": "stream"
                },
                {
                    "name": "stdout",
                    "text": "state    : CA\r\n",
                    "output_type": "stream"
                },
                {
                    "name": "stdout",
                    "text": "zip      : 94025\r\n",
                    "output_type": "stream"
                },
                {
                    "name": "stdout",
                    "text": "contract : True\r\n",
                    "output_type": "stream"
                },
                {
                    "name": "stdout",
                    "text": "\r\n",
                    "output_type": "stream"
                },
                {
                    "name": "stdout",
                    "text": "au_id    : 213-46-8915\r\n",
                    "output_type": "stream"
                },
                {
                    "name": "stdout",
                    "text": "au_lname : Green\r\n",
                    "output_type": "stream"
                },
                {
                    "name": "stdout",
                    "text": "au_fname : Marjorie\r\n",
                    "output_type": "stream"
                },
                {
                    "name": "stdout",
                    "text": "phone    : 415 986-7020\r\n",
                    "output_type": "stream"
                },
                {
                    "name": "stdout",
                    "text": "address  : 309 63rd St. #411\r\n",
                    "output_type": "stream"
                },
                {
                    "name": "stdout",
                    "text": "city     : Oakland\r\n",
                    "output_type": "stream"
                },
                {
                    "name": "stdout",
                    "text": "state    : CA\r\n",
                    "output_type": "stream"
                },
                {
                    "name": "stdout",
                    "text": "zip      : 94618\r\n",
                    "output_type": "stream"
                },
                {
                    "name": "stdout",
                    "text": "contract : True\r\n",
                    "output_type": "stream"
                },
                {
                    "name": "stdout",
                    "text": "\r\n",
                    "output_type": "stream"
                },
                {
                    "name": "stdout",
                    "text": "au_id    : 238-95-7766\r\n",
                    "output_type": "stream"
                },
                {
                    "name": "stdout",
                    "text": "au_lname : Carson\r\n",
                    "output_type": "stream"
                },
                {
                    "name": "stdout",
                    "text": "au_fname : Cheryl\r\n",
                    "output_type": "stream"
                },
                {
                    "name": "stdout",
                    "text": "phone    : 415 548-7723\r\n",
                    "output_type": "stream"
                },
                {
                    "name": "stdout",
                    "text": "address  : 589 Darwin Ln.\r\n",
                    "output_type": "stream"
                },
                {
                    "name": "stdout",
                    "text": "city     : Berkeley\r\n",
                    "output_type": "stream"
                },
                {
                    "name": "stdout",
                    "text": "state    : CA\r\n",
                    "output_type": "stream"
                },
                {
                    "name": "stdout",
                    "text": "zip      : 94705\r\n",
                    "output_type": "stream"
                },
                {
                    "name": "stdout",
                    "text": "contract : True\r\n",
                    "output_type": "stream"
                },
                {
                    "name": "stdout",
                    "text": "\r\n",
                    "output_type": "stream"
                },
                {
                    "name": "stdout",
                    "text": "au_id    : 267-41-2394\r\n",
                    "output_type": "stream"
                },
                {
                    "name": "stdout",
                    "text": "au_lname : O'Leary\r\n",
                    "output_type": "stream"
                },
                {
                    "name": "stdout",
                    "text": "au_fname : Michael\r\n",
                    "output_type": "stream"
                },
                {
                    "name": "stdout",
                    "text": "phone    : 408 286-2428\r\n",
                    "output_type": "stream"
                },
                {
                    "name": "stdout",
                    "text": "address  : 22 Cleveland Av. #14\r\n",
                    "output_type": "stream"
                },
                {
                    "name": "stdout",
                    "text": "city     : San Jose\r\n",
                    "output_type": "stream"
                },
                {
                    "name": "stdout",
                    "text": "state    : CA\r\n",
                    "output_type": "stream"
                },
                {
                    "name": "stdout",
                    "text": "zip      : 95128\r\n",
                    "output_type": "stream"
                },
                {
                    "name": "stdout",
                    "text": "contract : True\r\n",
                    "output_type": "stream"
                },
                {
                    "name": "stdout",
                    "text": "\r\n",
                    "output_type": "stream"
                },
                {
                    "name": "stdout",
                    "text": "au_id    : 274-80-9391\r\n",
                    "output_type": "stream"
                },
                {
                    "name": "stdout",
                    "text": "au_lname : Straight\r\n",
                    "output_type": "stream"
                },
                {
                    "name": "stdout",
                    "text": "au_fname : Dean\r\n",
                    "output_type": "stream"
                },
                {
                    "name": "stdout",
                    "text": "phone    : 415 834-2919\r\n",
                    "output_type": "stream"
                },
                {
                    "name": "stdout",
                    "text": "address  : 5420 College Av.\r\n",
                    "output_type": "stream"
                },
                {
                    "name": "stdout",
                    "text": "city     : Oakland\r\n",
                    "output_type": "stream"
                },
                {
                    "name": "stdout",
                    "text": "state    : CA\r\n",
                    "output_type": "stream"
                },
                {
                    "name": "stdout",
                    "text": "zip      : 94609\r\n",
                    "output_type": "stream"
                },
                {
                    "name": "stdout",
                    "text": "contract : True\r\n",
                    "output_type": "stream"
                },
                {
                    "name": "stdout",
                    "text": "\r\n",
                    "output_type": "stream"
                },
                {
                    "name": "stdout",
                    "text": "au_id    : 341-22-1782\r\n",
                    "output_type": "stream"
                },
                {
                    "name": "stdout",
                    "text": "au_lname : Smith\r\n",
                    "output_type": "stream"
                },
                {
                    "name": "stdout",
                    "text": "au_fname : Meander\r\n",
                    "output_type": "stream"
                },
                {
                    "name": "stdout",
                    "text": "phone    : 913 843-0462\r\n",
                    "output_type": "stream"
                },
                {
                    "name": "stdout",
                    "text": "address  : 10 Mississippi Dr.\r\n",
                    "output_type": "stream"
                },
                {
                    "name": "stdout",
                    "text": "city     : Lawrence\r\n",
                    "output_type": "stream"
                },
                {
                    "name": "stdout",
                    "text": "state    : KS\r\n",
                    "output_type": "stream"
                },
                {
                    "name": "stdout",
                    "text": "zip      : 66044\r\n",
                    "output_type": "stream"
                },
                {
                    "name": "stdout",
                    "text": "contract : False\r\n",
                    "output_type": "stream"
                },
                {
                    "name": "stdout",
                    "text": "\r\n",
                    "output_type": "stream"
                },
                {
                    "name": "stdout",
                    "text": "au_id    : 409-56-7008\r\n",
                    "output_type": "stream"
                },
                {
                    "name": "stdout",
                    "text": "au_lname : Bennet\r\n",
                    "output_type": "stream"
                },
                {
                    "name": "stdout",
                    "text": "au_fname : Abraham\r\n",
                    "output_type": "stream"
                },
                {
                    "name": "stdout",
                    "text": "phone    : 415 658-9932\r\n",
                    "output_type": "stream"
                },
                {
                    "name": "stdout",
                    "text": "address  : 6223 Bateman St.\r\n",
                    "output_type": "stream"
                },
                {
                    "name": "stdout",
                    "text": "city     : Berkeley\r\n",
                    "output_type": "stream"
                },
                {
                    "name": "stdout",
                    "text": "state    : CA\r\n",
                    "output_type": "stream"
                },
                {
                    "name": "stdout",
                    "text": "zip      : 94705\r\n",
                    "output_type": "stream"
                },
                {
                    "name": "stdout",
                    "text": "contract : True\r\n",
                    "output_type": "stream"
                },
                {
                    "name": "stdout",
                    "text": "\r\n",
                    "output_type": "stream"
                },
                {
                    "name": "stdout",
                    "text": "au_id    : 427-17-2319\r\n",
                    "output_type": "stream"
                },
                {
                    "name": "stdout",
                    "text": "au_lname : Dull\r\n",
                    "output_type": "stream"
                },
                {
                    "name": "stdout",
                    "text": "au_fname : Ann\r\n",
                    "output_type": "stream"
                },
                {
                    "name": "stdout",
                    "text": "phone    : 415 836-7128\r\n",
                    "output_type": "stream"
                },
                {
                    "name": "stdout",
                    "text": "address  : 3410 Blonde St.\r\n",
                    "output_type": "stream"
                },
                {
                    "name": "stdout",
                    "text": "city     : Palo Alto\r\n",
                    "output_type": "stream"
                },
                {
                    "name": "stdout",
                    "text": "state    : CA\r\n",
                    "output_type": "stream"
                },
                {
                    "name": "stdout",
                    "text": "zip      : 94301\r\n",
                    "output_type": "stream"
                },
                {
                    "name": "stdout",
                    "text": "contract : True\r\n",
                    "output_type": "stream"
                },
                {
                    "name": "stdout",
                    "text": "\r\n",
                    "output_type": "stream"
                },
                {
                    "name": "stdout",
                    "text": "au_id    : 472-27-2349\r\n",
                    "output_type": "stream"
                },
                {
                    "name": "stdout",
                    "text": "au_lname : Gringlesby\r\n",
                    "output_type": "stream"
                },
                {
                    "name": "stdout",
                    "text": "au_fname : Burt\r\n",
                    "output_type": "stream"
                },
                {
                    "name": "stdout",
                    "text": "phone    : 707 938-6445\r\n",
                    "output_type": "stream"
                },
                {
                    "name": "stdout",
                    "text": "address  : PO Box 792\r\n",
                    "output_type": "stream"
                },
                {
                    "name": "stdout",
                    "text": "city     : Covelo\r\n",
                    "output_type": "stream"
                },
                {
                    "name": "stdout",
                    "text": "state    : CA\r\n",
                    "output_type": "stream"
                },
                {
                    "name": "stdout",
                    "text": "zip      : 95428\r\n",
                    "output_type": "stream"
                },
                {
                    "name": "stdout",
                    "text": "contract : True\r\n",
                    "output_type": "stream"
                },
                {
                    "name": "stdout",
                    "text": "\r\n",
                    "output_type": "stream"
                },
                {
                    "name": "stdout",
                    "text": "au_id    : 486-29-1786\r\n",
                    "output_type": "stream"
                },
                {
                    "name": "stdout",
                    "text": "au_lname : Locksley\r\n",
                    "output_type": "stream"
                },
                {
                    "name": "stdout",
                    "text": "au_fname : Charlene\r\n",
                    "output_type": "stream"
                },
                {
                    "name": "stdout",
                    "text": "phone    : 415 585-4620\r\n",
                    "output_type": "stream"
                },
                {
                    "name": "stdout",
                    "text": "address  : 18 Broadway Av.\r\n",
                    "output_type": "stream"
                },
                {
                    "name": "stdout",
                    "text": "city     : San Francisco\r\n",
                    "output_type": "stream"
                },
                {
                    "name": "stdout",
                    "text": "state    : CA\r\n",
                    "output_type": "stream"
                },
                {
                    "name": "stdout",
                    "text": "zip      : 94130\r\n",
                    "output_type": "stream"
                },
                {
                    "name": "stdout",
                    "text": "contract : True\r\n",
                    "output_type": "stream"
                },
                {
                    "name": "stdout",
                    "text": "\r\n",
                    "output_type": "stream"
                },
                {
                    "name": "stdout",
                    "text": "au_id    : 527-72-3246\r\n",
                    "output_type": "stream"
                },
                {
                    "name": "stdout",
                    "text": "au_lname : Greene\r\n",
                    "output_type": "stream"
                },
                {
                    "name": "stdout",
                    "text": "au_fname : Morningstar\r\n",
                    "output_type": "stream"
                },
                {
                    "name": "stdout",
                    "text": "phone    : 615 297-2723\r\n",
                    "output_type": "stream"
                },
                {
                    "name": "stdout",
                    "text": "address  : 22 Graybar House Rd.\r\n",
                    "output_type": "stream"
                },
                {
                    "name": "stdout",
                    "text": "city     : Nashville\r\n",
                    "output_type": "stream"
                },
                {
                    "name": "stdout",
                    "text": "state    : TN\r\n",
                    "output_type": "stream"
                },
                {
                    "name": "stdout",
                    "text": "zip      : 37215\r\n",
                    "output_type": "stream"
                },
                {
                    "name": "stdout",
                    "text": "contract : False\r\n",
                    "output_type": "stream"
                },
                {
                    "name": "stdout",
                    "text": "\r\n",
                    "output_type": "stream"
                },
                {
                    "name": "stdout",
                    "text": "au_id    : 648-92-1872\r\n",
                    "output_type": "stream"
                },
                {
                    "name": "stdout",
                    "text": "au_lname : Blotchet-Halls\r\n",
                    "output_type": "stream"
                },
                {
                    "name": "stdout",
                    "text": "au_fname : Reginald\r\n",
                    "output_type": "stream"
                },
                {
                    "name": "stdout",
                    "text": "phone    : 503 745-6402\r\n",
                    "output_type": "stream"
                },
                {
                    "name": "stdout",
                    "text": "address  : 55 Hillsdale Bl.\r\n",
                    "output_type": "stream"
                },
                {
                    "name": "stdout",
                    "text": "city     : Corvallis\r\n",
                    "output_type": "stream"
                },
                {
                    "name": "stdout",
                    "text": "state    : OR\r\n",
                    "output_type": "stream"
                },
                {
                    "name": "stdout",
                    "text": "zip      : 97330\r\n",
                    "output_type": "stream"
                },
                {
                    "name": "stdout",
                    "text": "contract : True\r\n",
                    "output_type": "stream"
                },
                {
                    "name": "stdout",
                    "text": "\r\n",
                    "output_type": "stream"
                },
                {
                    "name": "stdout",
                    "text": "au_id    : 672-71-3249\r\n",
                    "output_type": "stream"
                },
                {
                    "name": "stdout",
                    "text": "au_lname : Yokomoto\r\n",
                    "output_type": "stream"
                },
                {
                    "name": "stdout",
                    "text": "au_fname : Akiko\r\n",
                    "output_type": "stream"
                },
                {
                    "name": "stdout",
                    "text": "phone    : 415 935-4228\r\n",
                    "output_type": "stream"
                },
                {
                    "name": "stdout",
                    "text": "address  : 3 Silver Ct.\r\n",
                    "output_type": "stream"
                },
                {
                    "name": "stdout",
                    "text": "city     : Walnut Creek\r\n",
                    "output_type": "stream"
                },
                {
                    "name": "stdout",
                    "text": "state    : CA\r\n",
                    "output_type": "stream"
                },
                {
                    "name": "stdout",
                    "text": "zip      : 94595\r\n",
                    "output_type": "stream"
                },
                {
                    "name": "stdout",
                    "text": "contract : True\r\n",
                    "output_type": "stream"
                },
                {
                    "name": "stdout",
                    "text": "\r\n",
                    "output_type": "stream"
                },
                {
                    "name": "stdout",
                    "text": "au_id    : 712-45-1867\r\n",
                    "output_type": "stream"
                },
                {
                    "name": "stdout",
                    "text": "au_lname : del Castillo\r\n",
                    "output_type": "stream"
                },
                {
                    "name": "stdout",
                    "text": "au_fname : Innes\r\n",
                    "output_type": "stream"
                },
                {
                    "name": "stdout",
                    "text": "phone    : 615 996-8275\r\n",
                    "output_type": "stream"
                },
                {
                    "name": "stdout",
                    "text": "address  : 2286 Cram Pl. #86\r\n",
                    "output_type": "stream"
                },
                {
                    "name": "stdout",
                    "text": "city     : Ann Arbor\r\n",
                    "output_type": "stream"
                },
                {
                    "name": "stdout",
                    "text": "state    : MI\r\n",
                    "output_type": "stream"
                },
                {
                    "name": "stdout",
                    "text": "zip      : 48105\r\n",
                    "output_type": "stream"
                },
                {
                    "name": "stdout",
                    "text": "contract : True\r\n",
                    "output_type": "stream"
                },
                {
                    "name": "stdout",
                    "text": "\r\n",
                    "output_type": "stream"
                },
                {
                    "name": "stdout",
                    "text": "au_id    : 722-51-5454\r\n",
                    "output_type": "stream"
                },
                {
                    "name": "stdout",
                    "text": "au_lname : DeFrance\r\n",
                    "output_type": "stream"
                },
                {
                    "name": "stdout",
                    "text": "au_fname : Michel\r\n",
                    "output_type": "stream"
                },
                {
                    "name": "stdout",
                    "text": "phone    : 219 547-9982\r\n",
                    "output_type": "stream"
                },
                {
                    "name": "stdout",
                    "text": "address  : 3 Balding Pl.\r\n",
                    "output_type": "stream"
                },
                {
                    "name": "stdout",
                    "text": "city     : Gary\r\n",
                    "output_type": "stream"
                },
                {
                    "name": "stdout",
                    "text": "state    : IN\r\n",
                    "output_type": "stream"
                },
                {
                    "name": "stdout",
                    "text": "zip      : 46403\r\n",
                    "output_type": "stream"
                },
                {
                    "name": "stdout",
                    "text": "contract : True\r\n",
                    "output_type": "stream"
                },
                {
                    "name": "stdout",
                    "text": "\r\n",
                    "output_type": "stream"
                },
                {
                    "name": "stdout",
                    "text": "au_id    : 724-08-9931\r\n",
                    "output_type": "stream"
                },
                {
                    "name": "stdout",
                    "text": "au_lname : Stringer\r\n",
                    "output_type": "stream"
                },
                {
                    "name": "stdout",
                    "text": "au_fname : Dirk\r\n",
                    "output_type": "stream"
                },
                {
                    "name": "stdout",
                    "text": "phone    : 415 843-2991\r\n",
                    "output_type": "stream"
                },
                {
                    "name": "stdout",
                    "text": "address  : 5420 Telegraph Av.\r\n",
                    "output_type": "stream"
                },
                {
                    "name": "stdout",
                    "text": "city     : Oakland\r\n",
                    "output_type": "stream"
                },
                {
                    "name": "stdout",
                    "text": "state    : CA\r\n",
                    "output_type": "stream"
                },
                {
                    "name": "stdout",
                    "text": "zip      : 94609\r\n",
                    "output_type": "stream"
                },
                {
                    "name": "stdout",
                    "text": "contract : False\r\n",
                    "output_type": "stream"
                },
                {
                    "name": "stdout",
                    "text": "\r\n",
                    "output_type": "stream"
                },
                {
                    "name": "stdout",
                    "text": "au_id    : 724-80-9391\r\n",
                    "output_type": "stream"
                },
                {
                    "name": "stdout",
                    "text": "au_lname : MacFeather\r\n",
                    "output_type": "stream"
                },
                {
                    "name": "stdout",
                    "text": "au_fname : Stearns\r\n",
                    "output_type": "stream"
                },
                {
                    "name": "stdout",
                    "text": "phone    : 415 354-7128\r\n",
                    "output_type": "stream"
                },
                {
                    "name": "stdout",
                    "text": "address  : 44 Upland Hts.\r\n",
                    "output_type": "stream"
                },
                {
                    "name": "stdout",
                    "text": "city     : Oakland\r\n",
                    "output_type": "stream"
                },
                {
                    "name": "stdout",
                    "text": "state    : CA\r\n",
                    "output_type": "stream"
                },
                {
                    "name": "stdout",
                    "text": "zip      : 94612\r\n",
                    "output_type": "stream"
                },
                {
                    "name": "stdout",
                    "text": "contract : True\r\n",
                    "output_type": "stream"
                },
                {
                    "name": "stdout",
                    "text": "\r\n",
                    "output_type": "stream"
                },
                {
                    "name": "stdout",
                    "text": "au_id    : 756-30-7391\r\n",
                    "output_type": "stream"
                },
                {
                    "name": "stdout",
                    "text": "au_lname : Karsen\r\n",
                    "output_type": "stream"
                },
                {
                    "name": "stdout",
                    "text": "au_fname : Livia\r\n",
                    "output_type": "stream"
                },
                {
                    "name": "stdout",
                    "text": "phone    : 415 534-9219\r\n",
                    "output_type": "stream"
                },
                {
                    "name": "stdout",
                    "text": "address  : 5720 McAuley St.\r\n",
                    "output_type": "stream"
                },
                {
                    "name": "stdout",
                    "text": "city     : Oakland\r\n",
                    "output_type": "stream"
                },
                {
                    "name": "stdout",
                    "text": "state    : CA\r\n",
                    "output_type": "stream"
                },
                {
                    "name": "stdout",
                    "text": "zip      : 94609\r\n",
                    "output_type": "stream"
                },
                {
                    "name": "stdout",
                    "text": "contract : True\r\n",
                    "output_type": "stream"
                },
                {
                    "name": "stdout",
                    "text": "\r\n",
                    "output_type": "stream"
                },
                {
                    "name": "stdout",
                    "text": "au_id    : 807-91-6654\r\n",
                    "output_type": "stream"
                },
                {
                    "name": "stdout",
                    "text": "au_lname : Panteley\r\n",
                    "output_type": "stream"
                },
                {
                    "name": "stdout",
                    "text": "au_fname : Sylvia\r\n",
                    "output_type": "stream"
                },
                {
                    "name": "stdout",
                    "text": "phone    : 301 946-8853\r\n",
                    "output_type": "stream"
                },
                {
                    "name": "stdout",
                    "text": "address  : 1956 Arlington Pl.\r\n",
                    "output_type": "stream"
                },
                {
                    "name": "stdout",
                    "text": "city     : Rockville\r\n",
                    "output_type": "stream"
                },
                {
                    "name": "stdout",
                    "text": "state    : MD\r\n",
                    "output_type": "stream"
                },
                {
                    "name": "stdout",
                    "text": "zip      : 20853\r\n",
                    "output_type": "stream"
                },
                {
                    "name": "stdout",
                    "text": "contract : True\r\n",
                    "output_type": "stream"
                },
                {
                    "name": "stdout",
                    "text": "\r\n",
                    "output_type": "stream"
                },
                {
                    "name": "stdout",
                    "text": "au_id    : 846-92-7186\r\n",
                    "output_type": "stream"
                },
                {
                    "name": "stdout",
                    "text": "au_lname : Hunter\r\n",
                    "output_type": "stream"
                },
                {
                    "name": "stdout",
                    "text": "au_fname : Sheryl\r\n",
                    "output_type": "stream"
                },
                {
                    "name": "stdout",
                    "text": "phone    : 415 836-7128\r\n",
                    "output_type": "stream"
                },
                {
                    "name": "stdout",
                    "text": "address  : 3410 Blonde St.\r\n",
                    "output_type": "stream"
                },
                {
                    "name": "stdout",
                    "text": "city     : Palo Alto\r\n",
                    "output_type": "stream"
                },
                {
                    "name": "stdout",
                    "text": "state    : CA\r\n",
                    "output_type": "stream"
                },
                {
                    "name": "stdout",
                    "text": "zip      : 94301\r\n",
                    "output_type": "stream"
                },
                {
                    "name": "stdout",
                    "text": "contract : True\r\n",
                    "output_type": "stream"
                },
                {
                    "name": "stdout",
                    "text": "\r\n",
                    "output_type": "stream"
                },
                {
                    "name": "stdout",
                    "text": "au_id    : 893-72-1158\r\n",
                    "output_type": "stream"
                },
                {
                    "name": "stdout",
                    "text": "au_lname : McBadden\r\n",
                    "output_type": "stream"
                },
                {
                    "name": "stdout",
                    "text": "au_fname : Heather\r\n",
                    "output_type": "stream"
                },
                {
                    "name": "stdout",
                    "text": "phone    : 707 448-4982\r\n",
                    "output_type": "stream"
                },
                {
                    "name": "stdout",
                    "text": "address  : 301 Putnam\r\n",
                    "output_type": "stream"
                },
                {
                    "name": "stdout",
                    "text": "city     : Vacaville\r\n",
                    "output_type": "stream"
                },
                {
                    "name": "stdout",
                    "text": "state    : CA\r\n",
                    "output_type": "stream"
                },
                {
                    "name": "stdout",
                    "text": "zip      : 95688\r\n",
                    "output_type": "stream"
                },
                {
                    "name": "stdout",
                    "text": "contract : False\r\n",
                    "output_type": "stream"
                },
                {
                    "name": "stdout",
                    "text": "\r\n",
                    "output_type": "stream"
                },
                {
                    "name": "stdout",
                    "text": "au_id    : 899-46-2035\r\n",
                    "output_type": "stream"
                },
                {
                    "name": "stdout",
                    "text": "au_lname : Ringer\r\n",
                    "output_type": "stream"
                },
                {
                    "name": "stdout",
                    "text": "au_fname : Anne\r\n",
                    "output_type": "stream"
                },
                {
                    "name": "stdout",
                    "text": "phone    : 801 826-0752\r\n",
                    "output_type": "stream"
                },
                {
                    "name": "stdout",
                    "text": "address  : 67 Seventh Av.\r\n",
                    "output_type": "stream"
                },
                {
                    "name": "stdout",
                    "text": "city     : Salt Lake City\r\n",
                    "output_type": "stream"
                },
                {
                    "name": "stdout",
                    "text": "state    : UT\r\n",
                    "output_type": "stream"
                },
                {
                    "name": "stdout",
                    "text": "zip      : 84152\r\n",
                    "output_type": "stream"
                },
                {
                    "name": "stdout",
                    "text": "contract : True\r\n",
                    "output_type": "stream"
                },
                {
                    "name": "stdout",
                    "text": "\r\n",
                    "output_type": "stream"
                },
                {
                    "name": "stdout",
                    "text": "au_id    : 998-72-3567\r\n",
                    "output_type": "stream"
                },
                {
                    "name": "stdout",
                    "text": "au_lname : Ringer\r\n",
                    "output_type": "stream"
                },
                {
                    "name": "stdout",
                    "text": "au_fname : Albert\r\n",
                    "output_type": "stream"
                },
                {
                    "name": "stdout",
                    "text": "phone    : 801 826-0752\r\n",
                    "output_type": "stream"
                },
                {
                    "name": "stdout",
                    "text": "address  : 67 Seventh Av.\r\n",
                    "output_type": "stream"
                },
                {
                    "name": "stdout",
                    "text": "city     : Salt Lake City\r\n",
                    "output_type": "stream"
                },
                {
                    "name": "stdout",
                    "text": "state    : UT\r\n",
                    "output_type": "stream"
                },
                {
                    "name": "stdout",
                    "text": "zip      : 84152\r\n",
                    "output_type": "stream"
                },
                {
                    "name": "stdout",
                    "text": "contract : True\r\n",
                    "output_type": "stream"
                },
                {
                    "name": "stdout",
                    "text": "\r\n",
                    "output_type": "stream"
                },
                {
                    "name": "stdout",
                    "text": "au_id    : 172-32-1176\r\n",
                    "output_type": "stream"
                },
                {
                    "name": "stdout",
                    "text": "au_lname : White\r\n",
                    "output_type": "stream"
                },
                {
                    "name": "stdout",
                    "text": "au_fname : Johnson\r\n",
                    "output_type": "stream"
                },
                {
                    "name": "stdout",
                    "text": "phone    : 408 496-7223\r\n",
                    "output_type": "stream"
                },
                {
                    "name": "stdout",
                    "text": "address  : 10932 Bigge Rd.\r\n",
                    "output_type": "stream"
                },
                {
                    "name": "stdout",
                    "text": "city     : Menlo Park\r\n",
                    "output_type": "stream"
                },
                {
                    "name": "stdout",
                    "text": "state    : CA\r\n",
                    "output_type": "stream"
                },
                {
                    "name": "stdout",
                    "text": "zip      : 94025\r\n",
                    "output_type": "stream"
                },
                {
                    "name": "stdout",
                    "text": "contract : True\r\n",
                    "output_type": "stream"
                },
                {
                    "name": "stdout",
                    "text": "\r\n",
                    "output_type": "stream"
                },
                {
                    "name": "stdout",
                    "text": "au_id    : 172-32-1176\r\n",
                    "output_type": "stream"
                },
                {
                    "name": "stdout",
                    "text": "au_lname : White\r\n",
                    "output_type": "stream"
                },
                {
                    "name": "stdout",
                    "text": "au_fname : Johnson\r\n",
                    "output_type": "stream"
                },
                {
                    "name": "stdout",
                    "text": "phone    : 408 496-7223\r\n",
                    "output_type": "stream"
                },
                {
                    "name": "stdout",
                    "text": "address  : 10932 Bigge Rd.\r\n",
                    "output_type": "stream"
                },
                {
                    "name": "stdout",
                    "text": "city     : Menlo Park\r\n",
                    "output_type": "stream"
                },
                {
                    "name": "stdout",
                    "text": "state    : CA\r\n",
                    "output_type": "stream"
                },
                {
                    "name": "stdout",
                    "text": "zip      : 94025\r\n",
                    "output_type": "stream"
                },
                {
                    "name": "stdout",
                    "text": "contract : True\r\n",
                    "output_type": "stream"
                },
                {
                    "name": "stdout",
                    "text": "\r\n",
                    "output_type": "stream"
                },
                {
                    "name": "stdout",
                    "text": "\r\n",
                    "output_type": "stream"
                }
            ],
            "execution_count": 7
        },
        {
            "cell_type": "markdown",
            "source": [
                "Thats really cool, you can see the data flying by on the screen  \n",
                "  \n",
                "![dbatools](.\\images\\blockedprocessXE.png )  \n",
                "\n",
                "But what about if you would like to read the data\n",
                "\n",
                "There is no need to learn the XML shredding :-)\n",
                "\n",
                "We can read the file.\n",
                "\n",
                "First we need to know where the file is"
            ],
            "metadata": {
                "azdata_cell_guid": "13d36020-278f-45a3-927a-5c5a4eb1d9b9"
            }
        },
        {
            "cell_type": "code",
            "source": [
                "Get-DbaXESessionTarget -SqlInstance $SQL1 -Session 'Blocked Process Report'"
            ],
            "metadata": {
                "azdata_cell_guid": "4ef07c28-56f0-4349-80b0-1206ac94992e"
            },
            "outputs": [
                {
                    "name": "stdout",
                    "text": "\r\n",
                    "output_type": "stream"
                },
                {
                    "name": "stdout",
                    "text": "ComputerName  : localhost\r\n",
                    "output_type": "stream"
                },
                {
                    "name": "stdout",
                    "text": "InstanceName  : MSSQLSERVER\r\n",
                    "output_type": "stream"
                },
                {
                    "name": "stdout",
                    "text": "SqlInstance   : b7ee5654561f\r\n",
                    "output_type": "stream"
                },
                {
                    "name": "stdout",
                    "text": "Session       : Blocked Process Report\r\n",
                    "output_type": "stream"
                },
                {
                    "name": "stdout",
                    "text": "SessionStatus : Running\r\n",
                    "output_type": "stream"
                },
                {
                    "name": "stdout",
                    "text": "Name          : package0.event_file\r\n",
                    "output_type": "stream"
                },
                {
                    "name": "stdout",
                    "text": "ID            : 2\r\n",
                    "output_type": "stream"
                },
                {
                    "name": "stdout",
                    "text": "Field         : {filename, increment, is_indexed_file_target, lazy_create_blob…}\r\n",
                    "output_type": "stream"
                },
                {
                    "name": "stdout",
                    "text": "PackageName   : package0\r\n",
                    "output_type": "stream"
                },
                {
                    "name": "stdout",
                    "text": "File          : {/var/opt/mssql/log\\Blocked Process Report}\r\n",
                    "output_type": "stream"
                },
                {
                    "name": "stdout",
                    "text": "Description   : Use the event_file target to save the event data to an XEL file, which can be \r\n",
                    "output_type": "stream"
                },
                {
                    "name": "stdout",
                    "text": "                archived and used for later analysis and review. You can merge multiple XEL files \r\n",
                    "output_type": "stream"
                },
                {
                    "name": "stdout",
                    "text": "                to view the combined data from separate event sessions.\r\n",
                    "output_type": "stream"
                },
                {
                    "name": "stdout",
                    "text": "ScriptName    : package0.event_file\r\n",
                    "output_type": "stream"
                },
                {
                    "name": "stdout",
                    "text": "\r\n",
                    "output_type": "stream"
                },
                {
                    "name": "stdout",
                    "text": "\r\n",
                    "output_type": "stream"
                }
            ],
            "execution_count": 8
        },
        {
            "cell_type": "markdown",
            "source": [
                "If we weren't using containers you could use `Get-DbaXeSessionTargetFile` and if you were on Windows and had access to the admin UNC share, you could do\n",
                "\n",
                "`Get-DbaXESession -SqlInstance $SQL1 -Session 'Blocked Process Report' | Read-DbaXEFile`\n",
                "\n",
                "But we arent so lucky. Lets copy the files to the directory we have mounted for our containers (I copy all the files because after 5 minutes of trying to only copy the xel files with bash I gave up)"
            ],
            "metadata": {
                "azdata_cell_guid": "d68d6e9b-cfcb-4e6b-88ec-a8327516129f"
            }
        },
        {
            "cell_type": "code",
            "source": [
                "docker exec -i dbatools_SQL2019_1 cp -R /var/opt/mssql/log/ /var/opt/mssql/backups/"
            ],
            "metadata": {
                "azdata_cell_guid": "a4e4925a-5c14-47b1-a1cd-f02ea36fa574"
            },
            "outputs": [],
            "execution_count": 9
        },
        {
            "cell_type": "markdown",
            "source": [
                "With the files moved to a place we can access them, we can read the files with one line of code. It won't work in the notebook but the code below will open a Windows PowerShell session and the you can right click to paste the command and read the data. `CTRL + C ` will stop it and you can just close the PowerShell session when it is done"
            ],
            "metadata": {
                "azdata_cell_guid": "4f1e8868-98df-425c-812f-663120ef0d57"
            }
        },
        {
            "cell_type": "code",
            "source": [
                "## When PowerShell opens - right click to paste the command\n",
                "#     \n",
                "\"Get-ChildItem $FolderPath\\log\\Block* | Read-DbaXEFile\" | clip\n",
                "\n",
                "Start-Process 'C:\\Windows\\system32\\WindowsPowerShell\\v1.0\\powershell.exe'"
            ],
            "metadata": {
                "azdata_cell_guid": "881b411c-7c1c-4073-b7ad-e967e9c60837"
            },
            "outputs": [],
            "execution_count": 10
        },
        {
            "cell_type": "markdown",
            "source": [
                "But we are using PowerShell which means we have all of the tools available to us :-)\n",
                "\n",
                "How about if we want the XE event data in a CSV file ?\n",
                "\n",
                "Again we need to open a PowerShell session and right click and when it is done, close it and come back here"
            ],
            "metadata": {
                "azdata_cell_guid": "15f19180-e1d8-4d88-b17e-51330a69e62d"
            }
        },
        {
            "cell_type": "code",
            "source": [
                "## When PowerShell opens - right click to paste the command\n",
                "#     \n",
                "\"Get-ChildItem $FolderPath\\log\\Block* | Read-DbaXEFile | Export-Csv -Path $FolderPath\\BlockedProcess.csv -NoClobber\" | clip\n",
                "\n",
                "Start-Process 'C:\\Windows\\system32\\WindowsPowerShell\\v1.0\\powershell.exe'"
            ],
            "metadata": {
                "azdata_cell_guid": "75d50400-fdd1-450e-b9b1-d99a49653e60"
            },
            "outputs": [],
            "execution_count": 11
        },
        {
            "cell_type": "markdown",
            "source": [
                "Now we can read the CSV file\n"
            ],
            "metadata": {
                "azdata_cell_guid": "b99c93ec-769c-4c1b-8ac7-c2b3974bd6f0"
            }
        },
        {
            "cell_type": "code",
            "source": [
                "$BlockedProcesses = Import-Csv $FolderPath\\BlockedProcess.csv \n",
                "$BlockedProcesses | Select -First 1"
            ],
            "metadata": {
                "azdata_cell_guid": "6e211c74-1549-4af2-8e21-933ec360a505"
            },
            "outputs": [
                {
                    "name": "stdout",
                    "text": "\r\n",
                    "output_type": "stream"
                },
                {
                    "name": "stdout",
                    "text": "name                : blocked_process_report\r\n",
                    "output_type": "stream"
                },
                {
                    "name": "stdout",
                    "text": "timestamp           : 17/06/2020 19:59:38 +00:00\r\n",
                    "output_type": "stream"
                },
                {
                    "name": "stdout",
                    "text": "blocked_process     : <blocked-process-report monitorLoop=\"312\"><blocked-process><process \r\n",
                    "output_type": "stream"
                },
                {
                    "name": "stdout",
                    "text": "                      id=\"processe8de47468\" taskpriority=\"0\" logused=\"0\" waitresource=\"OBJECT: \r\n",
                    "output_type": "stream"
                },
                {
                    "name": "stdout",
                    "text": "                      5:581577110:4 \" waittime=\"8846\" ownerId=\"101445\" transactionname=\"SELECT\" \r\n",
                    "output_type": "stream"
                },
                {
                    "name": "stdout",
                    "text": "                      lasttranstarted=\"2020-06-17T19:59:29.440\" XDES=\"0x1ada22fbe8\" lockMode=\"IS\" \r\n",
                    "output_type": "stream"
                },
                {
                    "name": "stdout",
                    "text": "                      schedulerid=\"5\" kpid=\"908\" status=\"suspended\" spid=\"66\" sbid=\"0\" ecid=\"0\" \r\n",
                    "output_type": "stream"
                },
                {
                    "name": "stdout",
                    "text": "                      priority=\"0\" trancount=\"0\" lastbatchstarted=\"2020-06-17T19:59:29.440\" \r\n",
                    "output_type": "stream"
                },
                {
                    "name": "stdout",
                    "text": "                      lastbatchcompleted=\"2020-06-17T19:59:29.440\" \r\n",
                    "output_type": "stream"
                },
                {
                    "name": "stdout",
                    "text": "                      lastattention=\"2020-06-17T19:59:29.433\" clientapp=\"dbatools PowerShell \r\n",
                    "output_type": "stream"
                },
                {
                    "name": "stdout",
                    "text": "                      module - dbatools.io\" hostname=\"BEARD-DESKTOP\" hostpid=\"25692\" \r\n",
                    "output_type": "stream"
                },
                {
                    "name": "stdout",
                    "text": "                      loginname=\"sqladmin\" isolationlevel=\"read committed (2)\" xactid=\"101445\" \r\n",
                    "output_type": "stream"
                },
                {
                    "name": "stdout",
                    "text": "                      currentdb=\"5\" currentdbname=\"pubs\" lockTimeout=\"4294967295\" \r\n",
                    "output_type": "stream"
                },
                {
                    "name": "stdout",
                    "text": "                      clientoption1=\"671088672\" clientoption2=\"128056\"><executionStack><frame \r\n",
                    "output_type": "stream"
                },
                {
                    "name": "stdout",
                    "text": "                      line=\"1\" stmtend=\"68\" sqlhandle=\"0x02000000f35a0e044951d232c0f64f8c92f4f6ab57\r\n",
                    "output_type": "stream"
                },
                {
                    "name": "stdout",
                    "text": "                      016e7b0000000000000000000000000000000000000000\" /></executionStack><inputbuf>\r\n",
                    "output_type": "stream"
                },
                {
                    "name": "stdout",
                    "text": "                      SELECT TOP 1 * FROM [dbo].[authors]   \r\n",
                    "output_type": "stream"
                },
                {
                    "name": "stdout",
                    "text": "                      </inputbuf></process></blocked-process><blocking-process><process \r\n",
                    "output_type": "stream"
                },
                {
                    "name": "stdout",
                    "text": "                      status=\"suspended\" waittime=\"9484\" spid=\"69\" sbid=\"0\" ecid=\"0\" priority=\"0\" \r\n",
                    "output_type": "stream"
                },
                {
                    "name": "stdout",
                    "text": "                      trancount=\"1\" lastbatchstarted=\"2020-06-17T19:59:28.803\" \r\n",
                    "output_type": "stream"
                },
                {
                    "name": "stdout",
                    "text": "                      lastbatchcompleted=\"2020-06-17T19:59:28.803\" \r\n",
                    "output_type": "stream"
                },
                {
                    "name": "stdout",
                    "text": "                      lastattention=\"2020-06-17T19:59:28.780\" clientapp=\"dbatools PowerShell \r\n",
                    "output_type": "stream"
                },
                {
                    "name": "stdout",
                    "text": "                      module - dbatools.io\" hostname=\"BEARD-DESKTOP\" hostpid=\"25692\" \r\n",
                    "output_type": "stream"
                },
                {
                    "name": "stdout",
                    "text": "                      loginname=\"sqladmin\" isolationlevel=\"read committed (2)\" xactid=\"101155\" \r\n",
                    "output_type": "stream"
                },
                {
                    "name": "stdout",
                    "text": "                      currentdb=\"5\" currentdbname=\"pubs\" lockTimeout=\"4294967295\" \r\n",
                    "output_type": "stream"
                },
                {
                    "name": "stdout",
                    "text": "                      clientoption1=\"671088672\" clientoption2=\"128056\"><executionStack><frame \r\n",
                    "output_type": "stream"
                },
                {
                    "name": "stdout",
                    "text": "                      line=\"4\" stmtstart=\"162\" stmtend=\"238\" sqlhandle=\"0x020000002a16a5065ddc88fdb\r\n",
                    "output_type": "stream"
                },
                {
                    "name": "stdout",
                    "text": "                      56eb2b358d23f16d135750d0000000000000000000000000000000000000000\" \r\n",
                    "output_type": "stream"
                },
                {
                    "name": "stdout",
                    "text": "                      /></executionStack><inputbuf>\r\n",
                    "output_type": "stream"
                },
                {
                    "name": "stdout",
                    "text": "                      \r\n",
                    "output_type": "stream"
                },
                {
                    "name": "stdout",
                    "text": "                      BEGIN TRANSACTION\r\n",
                    "output_type": "stream"
                },
                {
                    "name": "stdout",
                    "text": "                        SELECT * FROM [dbo].[authors] WITH (TABLOCKX, HOLDLOCK)\r\n",
                    "output_type": "stream"
                },
                {
                    "name": "stdout",
                    "text": "                          WAITFOR DELAY '00:00:30' -- 30 seconds\r\n",
                    "output_type": "stream"
                },
                {
                    "name": "stdout",
                    "text": "                      ROLLBACK TRANSACTION\r\n",
                    "output_type": "stream"
                },
                {
                    "name": "stdout",
                    "text": "                         </inputbuf></process></blocking-process></blocked-process-report>\r\n",
                    "output_type": "stream"
                },
                {
                    "name": "stdout",
                    "text": "database_id         : 5\r\n",
                    "output_type": "stream"
                },
                {
                    "name": "stdout",
                    "text": "database_name       : pubs\r\n",
                    "output_type": "stream"
                },
                {
                    "name": "stdout",
                    "text": "duration            : 8846000\r\n",
                    "output_type": "stream"
                },
                {
                    "name": "stdout",
                    "text": "index_id            : 0\r\n",
                    "output_type": "stream"
                },
                {
                    "name": "stdout",
                    "text": "lock_mode           : IS\r\n",
                    "output_type": "stream"
                },
                {
                    "name": "stdout",
                    "text": "object_id           : 581577110\r\n",
                    "output_type": "stream"
                },
                {
                    "name": "stdout",
                    "text": "resource_owner_type : LOCK\r\n",
                    "output_type": "stream"
                },
                {
                    "name": "stdout",
                    "text": "transaction_id      : 101445\r\n",
                    "output_type": "stream"
                },
                {
                    "name": "stdout",
                    "text": "\r\n",
                    "output_type": "stream"
                },
                {
                    "name": "stdout",
                    "text": "\r\n",
                    "output_type": "stream"
                }
            ],
            "execution_count": 12
        },
        {
            "cell_type": "markdown",
            "source": [
                "We could even put them in a database using \n",
                "\n",
                "`$BlockedProcesses | Write-DbaDataTable -SqlInstance $SQL1 -Database tempdb -Table BlockedProcess -AutoCreateTable`\n",
                "\n",
                "or an Excel File with ImportExcel, Email, Word Document, back to XML, into Azure etc etc"
            ],
            "metadata": {
                "azdata_cell_guid": "238224ef-be64-4990-9b45-496f9c84fde9"
            }
        },
        {
            "cell_type": "markdown",
            "source": [
                "# New Extended Events\n",
                "\n",
                "OK thats all very well and good, I can see, start, stop, watch, read the files with dbatools but I want to create a new one. dbatools has you covered.\n",
                "\n",
                "We have templates built in from Microsoft and Community members like Erin Stellato, Jes Borland, Ola Hallengren and more (Thank you all very much for this )"
            ],
            "metadata": {
                "azdata_cell_guid": "dc56ee81-c03a-4229-b3b3-8aeebab3f3db"
            }
        },
        {
            "cell_type": "code",
            "source": [
                "Get-DbaXESessionTemplate  | Select Category, Compatibility , Name, Source"
            ],
            "metadata": {
                "azdata_cell_guid": "75c39f15-7307-408c-a6bb-95a3f7034b79"
            },
            "outputs": [
                {
                    "name": "stdout",
                    "text": "\r\n",
                    "output_type": "stream"
                },
                {
                    "name": "stdout",
                    "text": "Category                 Compatibility Name                           Source\r\n",
                    "output_type": "stream"
                },
                {
                    "name": "stdout",
                    "text": "--------                 ------------- ----                           ------\r\n",
                    "output_type": "stream"
                },
                {
                    "name": "stdout",
                    "text": "Everyday Extended Events 2012          15 Second IO Error             Jes Borland\r\n",
                    "output_type": "stream"
                },
                {
                    "name": "stdout",
                    "text": "System Monitoring        2012          Activity Detail Tracking       Microsoft\r\n",
                    "output_type": "stream"
                },
                {
                    "name": "stdout",
                    "text": "System Monitoring        2014          Activity Tracking              Microsoft\r\n",
                    "output_type": "stream"
                },
                {
                    "name": "stdout",
                    "text": "System Monitoring        2014          AlwaysOn Health Enhanced       Jonathan Kehayias\r\n",
                    "output_type": "stream"
                },
                {
                    "name": "stdout",
                    "text": "System Monitoring        2012          Blocked Process Report         Erin Stellato\r\n",
                    "output_type": "stream"
                },
                {
                    "name": "stdout",
                    "text": "System Monitoring        2012          Connection Detail Tracking     Microsoft\r\n",
                    "output_type": "stream"
                },
                {
                    "name": "stdout",
                    "text": "System Monitoring        2012          Connection Tracking            Microsoft\r\n",
                    "output_type": "stream"
                },
                {
                    "name": "stdout",
                    "text": "Locks and Blocks         2012          Count Query Locks              Microsoft\r\n",
                    "output_type": "stream"
                },
                {
                    "name": "stdout",
                    "text": "Everyday Extended Events 2012          Database File I/O              Jes Borland\r\n",
                    "output_type": "stream"
                },
                {
                    "name": "stdout",
                    "text": "Performance Store        2012          Database Health 2012           Ola Hallengren\r\n",
                    "output_type": "stream"
                },
                {
                    "name": "stdout",
                    "text": "Performance Store        2014          Database Health 2014           Ola Hallengren\r\n",
                    "output_type": "stream"
                },
                {
                    "name": "stdout",
                    "text": "Performance Store        2016          Database Health 2016 and Above Ola Hallengren\r\n",
                    "output_type": "stream"
                },
                {
                    "name": "stdout",
                    "text": "Everyday Extended Events 2014          Deadlock Graphs                Jes Borland\r\n",
                    "output_type": "stream"
                },
                {
                    "name": "stdout",
                    "text": "System Monitoring        2012          Default Profiler Trace         Chrissy LeMaire\r\n",
                    "output_type": "stream"
                },
                {
                    "name": "stdout",
                    "text": "Features                 2012          Deprecated Feature Usage       Christian Gräfe\r\n",
                    "output_type": "stream"
                },
                {
                    "name": "stdout",
                    "text": "Query Execution          2012          Failing Queries                Sander Stad\r\n",
                    "output_type": "stream"
                },
                {
                    "name": "stdout",
                    "text": "Everyday Extended Events 2012          Function Executions            Jes Borland\r\n",
                    "output_type": "stream"
                },
                {
                    "name": "stdout",
                    "text": "Everyday Extended Events 2012          Index Page Splits              Jes Borland\r\n",
                    "output_type": "stream"
                },
                {
                    "name": "stdout",
                    "text": "System Monitoring        2012          Log File IO Detail Tracking    Microsoft\r\n",
                    "output_type": "stream"
                },
                {
                    "name": "stdout",
                    "text": "System Monitoring        2012          Log File IO Tracking           Microsoft\r\n",
                    "output_type": "stream"
                },
                {
                    "name": "stdout",
                    "text": "System Monitoring        2012          Login Tracker                  Chrissy LeMaire\r\n",
                    "output_type": "stream"
                },
                {
                    "name": "stdout",
                    "text": "Query Execution          2012          Long Running Queries           Peter Schott\r\n",
                    "output_type": "stream"
                },
                {
                    "name": "stdout",
                    "text": "Performance Store        2012          Overly Complex Queries         Pétur Grétarsson\r\n",
                    "output_type": "stream"
                },
                {
                    "name": "stdout",
                    "text": "Profiler Equivalents     2012          Profiler SP Counts             Microsoft\r\n",
                    "output_type": "stream"
                },
                {
                    "name": "stdout",
                    "text": "Profiler Equivalents     2012          Profiler Standard              Microsoft\r\n",
                    "output_type": "stream"
                },
                {
                    "name": "stdout",
                    "text": "Profiler Equivalents     2012          Profiler TSQL Duration         Microsoft\r\n",
                    "output_type": "stream"
                },
                {
                    "name": "stdout",
                    "text": "Profiler Equivalents     2012          Profiler TSQL Locks            Microsoft\r\n",
                    "output_type": "stream"
                },
                {
                    "name": "stdout",
                    "text": "Profiler Equivalents     2012          Profiler TSQL Replay           Microsoft\r\n",
                    "output_type": "stream"
                },
                {
                    "name": "stdout",
                    "text": "Profiler Equivalents     2012          Profiler TSQL SPs              Microsoft\r\n",
                    "output_type": "stream"
                },
                {
                    "name": "stdout",
                    "text": "Profiler Equivalents     2012          Profiler TSQL                  Microsoft\r\n",
                    "output_type": "stream"
                },
                {
                    "name": "stdout",
                    "text": "Profiler Equivalents     2012          Profiler Tuning                Microsoft\r\n",
                    "output_type": "stream"
                },
                {
                    "name": "stdout",
                    "text": "Everyday Extended Events 2012          Queries and Resources          Jes Borland\r\n",
                    "output_type": "stream"
                },
                {
                    "name": "stdout",
                    "text": "Query Execution          2012          Query Batch Detail Sampling    Microsoft\r\n",
                    "output_type": "stream"
                },
                {
                    "name": "stdout",
                    "text": "Query Execution          2012          Query Batch Sampling           Microsoft\r\n",
                    "output_type": "stream"
                },
                {
                    "name": "stdout",
                    "text": "Query Execution          2012          Query Batch Tracking           Microsoft\r\n",
                    "output_type": "stream"
                },
                {
                    "name": "stdout",
                    "text": "Query Execution          2012          Query Detail Sampling          Microsoft\r\n",
                    "output_type": "stream"
                },
                {
                    "name": "stdout",
                    "text": "Query Execution          2012          Query Detail Tracking          Microsoft\r\n",
                    "output_type": "stream"
                },
                {
                    "name": "stdout",
                    "text": "Query Execution          2012          Query Timeouts                 Christian Gräfe\r\n",
                    "output_type": "stream"
                },
                {
                    "name": "stdout",
                    "text": "Query Execution          2012          Query Wait Statistics Detail   Microsoft\r\n",
                    "output_type": "stream"
                },
                {
                    "name": "stdout",
                    "text": "Everyday Extended Events 2014          Query Wait Statistics          Jes Borland\r\n",
                    "output_type": "stream"
                },
                {
                    "name": "stdout",
                    "text": "Everyday Extended Events 2012          Stored Procedure Parameters    Jes Borland\r\n",
                    "output_type": "stream"
                },
                {
                    "name": "stdout",
                    "text": "\r\n",
                    "output_type": "stream"
                }
            ],
            "execution_count": 13
        },
        {
            "cell_type": "markdown",
            "source": [
                "You can see exactly what it will do"
            ],
            "metadata": {
                "azdata_cell_guid": "fca4cc90-67b1-4cfa-90b1-72a3809e3f43"
            }
        },
        {
            "cell_type": "code",
            "source": [
                "Get-DbaXESessionTemplate -Template 'Blocked Process Report'"
            ],
            "metadata": {
                "azdata_cell_guid": "13dbe882-e173-4d7d-90ae-5218e4e83f20"
            },
            "outputs": [
                {
                    "name": "stdout",
                    "text": "\r\n",
                    "output_type": "stream"
                },
                {
                    "name": "stdout",
                    "text": "Category      : System Monitoring\r\n",
                    "output_type": "stream"
                },
                {
                    "name": "stdout",
                    "text": "Compatibility : 2012\r\n",
                    "output_type": "stream"
                },
                {
                    "name": "stdout",
                    "text": "Description   : Captures the blocked process report. In order to capture a blocked process report, \r\n",
                    "output_type": "stream"
                },
                {
                    "name": "stdout",
                    "text": "                you must have the blocked process threshold system configuration option enabled \r\n",
                    "output_type": "stream"
                },
                {
                    "name": "stdout",
                    "text": "                (To capture blocking processes, configure blocked threshold (Set-DbaSpConfigure \r\n",
                    "output_type": "stream"
                },
                {
                    "name": "stdout",
                    "text": "                -SqlInstance sql2017 -ConfigName BlockedProcessThreshold -Value 5). \r\n",
                    "output_type": "stream"
                },
                {
                    "name": "stdout",
                    "text": "Name          : Blocked Process Report\r\n",
                    "output_type": "stream"
                },
                {
                    "name": "stdout",
                    "text": "Source        : Erin Stellato\r\n",
                    "output_type": "stream"
                },
                {
                    "name": "stdout",
                    "text": "\r\n",
                    "output_type": "stream"
                },
                {
                    "name": "stdout",
                    "text": "\r\n",
                    "output_type": "stream"
                }
            ],
            "execution_count": 14
        },
        {
            "cell_type": "markdown",
            "source": [
                "So you can pick a ready made session and add it to your instance easily. Again, notebooks dont like the XE.dlls for some reason so we have to open a Windows PowerShell Session"
            ],
            "metadata": {
                "azdata_cell_guid": "a09effab-24d0-4c05-943d-8b3e2daadbae"
            }
        },
        {
            "cell_type": "code",
            "source": [
                " ## When PowerShell opens - right click to paste the command\n",
                "# \n",
                "## the password is dbatools.IO\n",
                "\" Import-DbaXESessionTemplate -SqlInstance 'localhost,15592' -SqlCredential sqladmin -Template 'Index Page Splits'\" | clip\n",
                "\n",
                "Start-Process 'C:\\Windows\\system32\\WindowsPowerShell\\v1.0\\powershell.exe'"
            ],
            "metadata": {
                "azdata_cell_guid": "426d29ad-e02d-4838-9c24-047846406ab1"
            },
            "outputs": [],
            "execution_count": 15
        },
        {
            "cell_type": "markdown",
            "source": [
                "If we look at the instance for that session"
            ],
            "metadata": {
                "azdata_cell_guid": "fe837248-5690-4d4a-b5ad-15076399d43d"
            }
        },
        {
            "cell_type": "code",
            "source": [
                "Get-DbaXESession -SqlInstance $SQL1 -Session 'Index Page Splits'"
            ],
            "metadata": {
                "azdata_cell_guid": "f7e00afc-54d5-406b-99b7-9ca881edf0ba"
            },
            "outputs": [
                {
                    "name": "stdout",
                    "text": "\r\n",
                    "output_type": "stream"
                },
                {
                    "name": "stdout",
                    "text": "ComputerName : localhost\r\n",
                    "output_type": "stream"
                },
                {
                    "name": "stdout",
                    "text": "InstanceName : MSSQLSERVER\r\n",
                    "output_type": "stream"
                },
                {
                    "name": "stdout",
                    "text": "SqlInstance  : b7ee5654561f\r\n",
                    "output_type": "stream"
                },
                {
                    "name": "stdout",
                    "text": "Name         : Index Page Splits\r\n",
                    "output_type": "stream"
                },
                {
                    "name": "stdout",
                    "text": "Status       : Stopped\r\n",
                    "output_type": "stream"
                },
                {
                    "name": "stdout",
                    "text": "StartTime    : \r\n",
                    "output_type": "stream"
                },
                {
                    "name": "stdout",
                    "text": "AutoStart    : False\r\n",
                    "output_type": "stream"
                },
                {
                    "name": "stdout",
                    "text": "State        : Existing\r\n",
                    "output_type": "stream"
                },
                {
                    "name": "stdout",
                    "text": "Targets      : {package0.event_file}\r\n",
                    "output_type": "stream"
                },
                {
                    "name": "stdout",
                    "text": "TargetFile   : {/var/opt/mssql/log\\page_splits}\r\n",
                    "output_type": "stream"
                },
                {
                    "name": "stdout",
                    "text": "Events       : {sqlserver.page_split}\r\n",
                    "output_type": "stream"
                },
                {
                    "name": "stdout",
                    "text": "MaxMemory    : 4096\r\n",
                    "output_type": "stream"
                },
                {
                    "name": "stdout",
                    "text": "MaxEventSize : 0\r\n",
                    "output_type": "stream"
                },
                {
                    "name": "stdout",
                    "text": "\r\n",
                    "output_type": "stream"
                },
                {
                    "name": "stdout",
                    "text": "\r\n",
                    "output_type": "stream"
                }
            ],
            "execution_count": 16
        },
        {
            "cell_type": "code",
            "source": [
                "Get-DbaTrace -SqlInstance $sql1 # | Out-GridView -PassThru | ConvertTo-DbaXESession -Name 'Test' | Start-DbaXESession"
            ],
            "metadata": {
                "azdata_cell_guid": "edfb7296-24ad-41df-8356-c7ddb0448df2"
            },
            "outputs": [
                {
                    "name": "stdout",
                    "text": "\r\n",
                    "output_type": "stream"
                },
                {
                    "name": "stdout",
                    "text": "BufferCount       : 2\r\n",
                    "output_type": "stream"
                },
                {
                    "name": "stdout",
                    "text": "BufferSize        : 1024\r\n",
                    "output_type": "stream"
                },
                {
                    "name": "stdout",
                    "text": "ComputerName      : localhost\r\n",
                    "output_type": "stream"
                },
                {
                    "name": "stdout",
                    "text": "DroppedEventCount : \r\n",
                    "output_type": "stream"
                },
                {
                    "name": "stdout",
                    "text": "EventCount        : 904\r\n",
                    "output_type": "stream"
                },
                {
                    "name": "stdout",
                    "text": "FilePosition      : 1048576\r\n",
                    "output_type": "stream"
                },
                {
                    "name": "stdout",
                    "text": "Id                : 1\r\n",
                    "output_type": "stream"
                },
                {
                    "name": "stdout",
                    "text": "InstanceName      : MSSQLSERVER\r\n",
                    "output_type": "stream"
                },
                {
                    "name": "stdout",
                    "text": "IsDefault         : True\r\n",
                    "output_type": "stream"
                },
                {
                    "name": "stdout",
                    "text": "IsRollover        : True\r\n",
                    "output_type": "stream"
                },
                {
                    "name": "stdout",
                    "text": "IsRowset          : False\r\n",
                    "output_type": "stream"
                },
                {
                    "name": "stdout",
                    "text": "IsRunning         : True\r\n",
                    "output_type": "stream"
                },
                {
                    "name": "stdout",
                    "text": "IsShutdown        : False\r\n",
                    "output_type": "stream"
                },
                {
                    "name": "stdout",
                    "text": "LastEventTime     : 17/06/2020 20:14:46\r\n",
                    "output_type": "stream"
                },
                {
                    "name": "stdout",
                    "text": "MaxFiles          : 5\r\n",
                    "output_type": "stream"
                },
                {
                    "name": "stdout",
                    "text": "MaxSize           : 20\r\n",
                    "output_type": "stream"
                },
                {
                    "name": "stdout",
                    "text": "Path              : /var/opt/mssql/log/log_28.trc\r\n",
                    "output_type": "stream"
                },
                {
                    "name": "stdout",
                    "text": "ReaderSpid        : \r\n",
                    "output_type": "stream"
                },
                {
                    "name": "stdout",
                    "text": "SqlInstance       : b7ee5654561f\r\n",
                    "output_type": "stream"
                },
                {
                    "name": "stdout",
                    "text": "StartTime         : 17/06/2020 19:33:38\r\n",
                    "output_type": "stream"
                },
                {
                    "name": "stdout",
                    "text": "Status            : 1\r\n",
                    "output_type": "stream"
                },
                {
                    "name": "stdout",
                    "text": "StopTime          : \r\n",
                    "output_type": "stream"
                },
                {
                    "name": "stdout",
                    "text": "\r\n",
                    "output_type": "stream"
                },
                {
                    "name": "stdout",
                    "text": "\r\n",
                    "output_type": "stream"
                }
            ],
            "execution_count": 17
        },
        {
            "cell_type": "markdown",
            "source": [
                "There is so much more that dbatools can do with Extended Events take a look at Chrissy and Gianluca's presentation from SQL Bits\n",
                "\n",
                "Video - https://sqlbits.com/Sessions/Event17/Simplifying_XEvents_Management_with_dbatools  \n",
                "Code - https://github.com/sqlcollaborative/community-presentations/tree/master/chrissy-lemaire-gianluca-sartori/bits-xevents"
            ],
            "metadata": {
                "azdata_cell_guid": "789a20b3-332e-46f2-8b26-e1aa38222495"
            }
        },
        {
            "cell_type": "markdown",
            "source": [
                "# Clean Up\n",
                "\n",
                "The 99-CleanUpContainers notebook will remove the containers, files and directory - it will leave the image so you do not have to download it again!"
            ],
            "metadata": {
                "azdata_cell_guid": "9123ed03-df78-43d0-90ae-ca5ed227050f"
            }
        },
        {
            "cell_type": "code",
            "source": [],
            "metadata": {
                "azdata_cell_guid": "5dc9bb7b-17d1-40a0-9289-7f6ad11f675f"
            },
            "outputs": [],
            "execution_count": null
        }
    ]
}