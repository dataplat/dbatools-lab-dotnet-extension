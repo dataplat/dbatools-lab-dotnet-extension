{
    "metadata": {
        "kernelspec": {
            "name": ".net-powershell",
            "display_name": ".NET (PowerShell)"
        },
        "language_info": {
            "name": "PowerShell",
            "version": "7.0",
            "mimetype": "text/x-powershell",
            "file_extension": ".ps1",
            "pygments_lexer": "powershell"
        }
    },
    "nbformat_minor": 2,
    "nbformat": 4,
    "cells": [
        {
            "cell_type": "markdown",
            "source": [
                "# Working with Agent Jobs with dbatools\n",
                "\n",
                "You can use dbatools to administer your Agent jobs. Make sure that you have first run your create container notebook\n",
                "\n",
                "We have written a book which will give you a brilliant introduction to dbatools. It's called dbatools in a Month of Lunches and you can find it at https://beard.media/book\n",
                "\n",
                "The cell block below will create the variables that you will need for the rest of the notebook\n",
                "\n",
                "You can run the code by using the arrow keys and shift and enter"
            ],
            "metadata": {
                "azdata_cell_guid": "4406965a-4cf0-4623-907a-a0788227b312"
            }
        },
        {
            "cell_type": "code",
            "source": [
                "$FolderPath = $Env:USERPROFILE + '\\Documents\\dbatoolsdemo'\n",
                "$SqlInstances = 'localhost,15592', 'localhost,15593'\n",
                "$SqlCredential = Import-Clixml -Path $FolderPath\\sqladmin.cred\n",
                "Write-Output \" Creating connection to the containers\"\n",
                "try {\n",
                "    $SQL1 = Connect-DbaInstance -SqlInstance $SqlInstances[0] -SqlCredential $SqlCredential \n",
                "    $SQL2 = Connect-DbaInstance -SqlInstance $SqlInstances[1] -SqlCredential $SqlCredential\n",
                "    Write-Output \"We have a connection to the containers\"\n",
                "\n",
                "}\n",
                "catch {\n",
                "    Write-Output \"You haven't got a connection to the containers - Either they are still upgrading in which case try again in 30 seconds or the containers have not come up correctly\"\n",
                "    Write-Output \"Make sure the containers are running - the code is below in a block for you\"\n",
                "    Write-Output \"docker ps -a\"\n",
                "    Write-Output \"If they are read the logs - the code is below in a block for you\"\n",
                "    Write-Output \"docker logs dbatools_SQL2019_1\"\n",
                "    Write-Output \"docker logs dbatools_SQL2019-1_1\"\n",
                "}\n",
                "if( $Host -and $Host.UI -and $Host.UI.RawUI ) {\n",
                "    $rawUI = $Host.UI.RawUI\n",
                "    $oldSize = $rawUI.BufferSize\n",
                "    $typeName = $oldSize.GetType( ).FullName\n",
                "    $newSize = New-Object $typeName (500, $oldSize.Height)\n",
                "    $rawUI.BufferSize = $newSize\n",
                "  }"
            ],
            "metadata": {
                "jupyter": {
                    "source_hidden": true
                },
                "azdata_cell_guid": "ac98d556-d3ed-4766-8e92-ac653bb32077",
                "tags": [
                    "hide_input"
                ]
            },
            "outputs": [],
            "execution_count": null
        },
        {
            "cell_type": "markdown",
            "source": [
                "## List the Agent jobs on the instance\n",
                "\n",
                "You can very quickly list all the agent jobs on an instance with dbatools"
            ],
            "metadata": {
                "azdata_cell_guid": "3bee5843-6f6a-4e5c-ad44-0d03fe3cc4f1"
            }
        },
        {
            "cell_type": "code",
            "source": [
                "Get-DbaAgentJob -SqlInstance $sql1 | Format-Table"
            ],
            "metadata": {
                "azdata_cell_guid": "58f659ce-3517-411c-a41b-a0168f9a81d8"
            },
            "outputs": [],
            "execution_count": null
        },
        {
            "cell_type": "markdown",
            "source": [
                "You can get info about a particular job"
            ],
            "metadata": {
                "azdata_cell_guid": "456f6262-990e-4e27-a964-7412a5cbbd7f"
            }
        },
        {
            "cell_type": "code",
            "source": [
                "Get-DbaAgentJob -SqlInstance $sql1 -Job 'The Beard is Important'"
            ],
            "metadata": {
                "azdata_cell_guid": "53d031df-07f7-486c-883b-c45a422eb529"
            },
            "outputs": [],
            "execution_count": null
        },
        {
            "cell_type": "markdown",
            "source": [
                "Job Steps"
            ],
            "metadata": {
                "azdata_cell_guid": "5bc6fc97-f983-4118-9c71-041fd2da4aeb"
            }
        },
        {
            "cell_type": "code",
            "source": [
                "Get-DbaAgentJobStep -SqlInstance $SQL1 -Job 'The Beard is Important'"
            ],
            "metadata": {
                "azdata_cell_guid": "458629f4-1c4b-470d-a9a2-29be11fc40a4"
            },
            "outputs": [],
            "execution_count": null
        },
        {
            "cell_type": "markdown",
            "source": [
                "You can remove jobs \n",
                "\n",
                "**PLEASE DON'T DO THIS IN PRODUCTION**"
            ],
            "metadata": {
                "azdata_cell_guid": "73e5f762-05b4-4eac-90cb-741fc06f2283"
            }
        },
        {
            "cell_type": "code",
            "source": [
                "Get-DbaAgentJob -SqlInstance $SQL2 | Remove-DbaAgentJob -Confirm:$false"
            ],
            "metadata": {
                "azdata_cell_guid": "7a06273e-9ab6-42ac-808b-404de7788cd8"
            },
            "outputs": [],
            "execution_count": null
        },
        {
            "cell_type": "markdown",
            "source": [
                "We have no jobs on SQL2"
            ],
            "metadata": {
                "azdata_cell_guid": "8ee1c4f9-2bbd-4917-aa4c-28adcd1f7e10"
            }
        },
        {
            "cell_type": "code",
            "source": [
                " $SQL2 = Connect-DbaInstance -SqlInstance $SqlInstances[1] -SqlCredential $SqlCredential\n",
                "Get-DbaAgentJob -SqlInstance $SQL2"
            ],
            "metadata": {
                "azdata_cell_guid": "c2f742d9-4247-4c1c-9427-e6185007aa7e"
            },
            "outputs": [],
            "execution_count": null
        },
        {
            "cell_type": "markdown",
            "source": [
                "If you have run through the notebooks, you might still have the Availability Group that was created in Notebook 03\n",
                "\n",
                "You would want your Agent Jobs to be the same on all replicas so that if you failover everything works\n",
                "\n",
                "dbatools has you covered"
            ],
            "metadata": {
                "azdata_cell_guid": "a0423326-5880-4ca3-ba68-70a728e43c5f"
            }
        },
        {
            "cell_type": "code",
            "source": [
                "Copy-DbaAgentJob -Source $SQL1 -Destination $SQL2"
            ],
            "metadata": {
                "azdata_cell_guid": "48309e0d-7499-480c-b731-709d80476c6f"
            },
            "outputs": [],
            "execution_count": null
        },
        {
            "cell_type": "markdown",
            "source": [
                "and just like that all jobs are on SQL2"
            ],
            "metadata": {
                "azdata_cell_guid": "e64219a6-7e32-4c4f-a3b3-2534366b32c1"
            }
        },
        {
            "cell_type": "code",
            "source": [
                " $SQL2 = Connect-DbaInstance -SqlInstance $SqlInstances[1] -SqlCredential $SqlCredential\n",
                "Get-DbaAgentJob -SqlInstance $SQL2|Format-Table -AutoSize"
            ],
            "metadata": {
                "azdata_cell_guid": "1b0d214d-72cb-426d-8215-b51534075284"
            },
            "outputs": [],
            "execution_count": null
        },
        {
            "cell_type": "markdown",
            "source": [
                "# Clean Up\n",
                "\n",
                "The 99-CleanUpContainers notebook will remove the containers, files and directory - it will leave the image so you do not have to download it again!"
            ],
            "metadata": {
                "azdata_cell_guid": "c53ec73a-a209-40e2-819f-ae458a1433b0"
            }
        },
        {
            "cell_type": "code",
            "source": [],
            "metadata": {
                "azdata_cell_guid": "36f67b7e-8d3b-4458-a173-cca9186b0c58"
            },
            "outputs": [],
            "execution_count": null
        }
    ]
}